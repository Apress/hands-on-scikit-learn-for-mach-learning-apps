{
 "cells": [
  {
   "cell_type": "code",
   "execution_count": 2,
   "metadata": {},
   "outputs": [
    {
     "name": "stdout",
     "output_type": "stream",
     "text": [
      "<<KNeighborsClassifier>>\n",
      "train: 0.9666666666666667 test: 0.964 \n",
      "\n",
      "<<SVC>>\n",
      "train: 0.968 test: 0.972\n"
     ]
    }
   ],
   "source": [
    "from sklearn import datasets\n",
    "from sklearn.neighbors import KNeighborsClassifier\n",
    "from sklearn import svm\n",
    "from sklearn.model_selection import train_test_split\n",
    "from sklearn.metrics import accuracy_score\n",
    "\n",
    "def get_scores(model, Xtrain, Xtest, ytrain, ytest):\n",
    "    y_ptrain = model.predict(Xtrain)\n",
    "    y_ptest = model.predict(Xtest)\n",
    "    acc_train = accuracy_score(ytrain, y_ptrain)\n",
    "    acc_test = accuracy_score(ytest, y_ptest)\n",
    "    name = model.__class__.__name__\n",
    "    return (name, acc_train, acc_test)\n",
    "\n",
    "if __name__ == \"__main__\":\n",
    "    br = '\\n'\n",
    "    X, y = datasets.make_moons(n_samples=1000, shuffle=True,\n",
    "                               noise=0.2, random_state=0)\n",
    "    X_train, X_test, y_train, y_test = train_test_split(\n",
    "        X, y, random_state=0)\n",
    "    knn = KNeighborsClassifier().fit(X_train, y_train)\n",
    "    accuracy = get_scores(knn, X_train, X_test, y_train, y_test)\n",
    "    print ('<<' + str(accuracy[0]) + '>>')\n",
    "    print ('train:', accuracy[1], 'test:', accuracy[2], br)\n",
    "    svm = svm.SVC(gamma='scale', random_state=0)\n",
    "    svm.fit(X_train, y_train)\n",
    "    accuracy = get_scores(svm, X_train, X_test, y_train, y_test)\n",
    "    print ('<<' + str(accuracy[0]) + '>>')\n",
    "    print ('train:', accuracy[1], 'test:', accuracy[2])"
   ]
  },
  {
   "cell_type": "code",
   "execution_count": null,
   "metadata": {},
   "outputs": [],
   "source": []
  }
 ],
 "metadata": {
  "kernelspec": {
   "display_name": "Python 3",
   "language": "python",
   "name": "python3"
  },
  "language_info": {
   "codemirror_mode": {
    "name": "ipython",
    "version": 3
   },
   "file_extension": ".py",
   "mimetype": "text/x-python",
   "name": "python",
   "nbconvert_exporter": "python",
   "pygments_lexer": "ipython3",
   "version": "3.7.3"
  }
 },
 "nbformat": 4,
 "nbformat_minor": 2
}
