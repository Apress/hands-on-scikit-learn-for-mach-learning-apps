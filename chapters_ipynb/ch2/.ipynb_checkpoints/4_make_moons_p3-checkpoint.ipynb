{
 "cells": [
  {
   "cell_type": "code",
   "execution_count": 1,
   "metadata": {},
   "outputs": [
    {
     "name": "stdout",
     "output_type": "stream",
     "text": [
      "train test valid split (technique 1):\n",
      "<<KNeighborsClassifier>>\n",
      "train: 0.969 test: 0.969 valid: 0.9688\n",
      "sample split: (1000, 2) (1000, 2) (10000, 2)\n",
      "\n",
      "train test valid split (technique 2):\n",
      "<<KNeighborsClassifier>>\n",
      "train: 0.9616666666666667 test: 0.975 valid: 0.9694\n",
      "sample split: (600, 2) (200, 2) (200, 2)\n"
     ]
    }
   ],
   "source": [
    "from sklearn.datasets import make_moons\n",
    "from sklearn.neighbors import KNeighborsClassifier\n",
    "from sklearn.model_selection import train_test_split\n",
    "from sklearn.metrics import accuracy_score\n",
    "\n",
    "def get_scores(model, Xtrain, ytrain, Xtest, ytest,\n",
    "               Xvalid, yvalid):\n",
    "    y_ptrain = model.predict(Xtrain)\n",
    "    y_ptest = model.predict(Xtest)\n",
    "    y_pvalid = model.predict(Xvalid)\n",
    "    acc_train = accuracy_score(ytrain, y_ptrain)\n",
    "    acc_test = accuracy_score(ytest, y_ptest)\n",
    "    acc_valid = accuracy_score(yvalid, y_pvalid)\n",
    "    name = model.__class__.__name__\n",
    "    return (name, acc_train, acc_test, acc_valid)\n",
    "\n",
    "if __name__ == \"__main__\":\n",
    "    br = '\\n'\n",
    "    X_train, y_train = make_moons(n_samples=1000, shuffle=True,\n",
    "                                  noise=0.2, random_state=0)\n",
    "    X_test, y_test = make_moons(n_samples=1000, shuffle=True,\n",
    "                                noise=0.2, random_state=0)\n",
    "    X_valid, y_valid = make_moons(n_samples=10000, shuffle=True,\n",
    "                                  noise=0.2, random_state=0)\n",
    "    knn = KNeighborsClassifier().fit(X_train, y_train)\n",
    "    accuracy = get_scores(knn, X_train, y_train, X_test, y_test,\n",
    "                          X_valid, y_valid)\n",
    "    print ('train test valid split (technique 1):')\n",
    "    print ('<<' + str(accuracy[0]) + '>>')\n",
    "    print ('train:', accuracy[1], 'test:', accuracy[2],\n",
    "           'valid:', accuracy[3])\n",
    "    print ('sample split:', X_train.shape, X_test.shape,\n",
    "           X_valid.shape)\n",
    "    print ()\n",
    "    X, y = make_moons(n_samples=1000, shuffle=True, noise=0.2,\n",
    "                               random_state=0)\n",
    "    X_train, X_test, y_train, y_test = train_test_split(\n",
    "        X, y, test_size=0.2, random_state=0)\n",
    "    X_train, X_val, y_train, y_val = train_test_split(\n",
    "        X_train, y_train, test_size=0.25, random_state=0)\n",
    "    knn = KNeighborsClassifier().fit(X_train, y_train)\n",
    "    accuracy = get_scores(knn, X_train, y_train, X_test, y_test,\n",
    "                          X_valid, y_valid)\n",
    "    print ('train test valid split (technique 2):')\n",
    "    print ('<<' + str(accuracy[0]) + '>>')\n",
    "    print ('train:', accuracy[1], 'test:', accuracy[2],\n",
    "           'valid:', accuracy[3])\n",
    "    print ('sample split:', X_train.shape, X_test.shape,\n",
    "           X_val.shape)"
   ]
  },
  {
   "cell_type": "code",
   "execution_count": null,
   "metadata": {},
   "outputs": [],
   "source": []
  }
 ],
 "metadata": {
  "kernelspec": {
   "display_name": "Python 3",
   "language": "python",
   "name": "python3"
  },
  "language_info": {
   "codemirror_mode": {
    "name": "ipython",
    "version": 3
   },
   "file_extension": ".py",
   "mimetype": "text/x-python",
   "name": "python",
   "nbconvert_exporter": "python",
   "pygments_lexer": "ipython3",
   "version": "3.7.3"
  }
 },
 "nbformat": 4,
 "nbformat_minor": 2
}
