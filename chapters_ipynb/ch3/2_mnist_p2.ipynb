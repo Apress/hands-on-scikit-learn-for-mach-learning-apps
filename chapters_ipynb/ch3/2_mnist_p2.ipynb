{
 "cells": [
  {
   "cell_type": "code",
   "execution_count": 2,
   "metadata": {},
   "outputs": [
    {
     "name": "stdout",
     "output_type": "stream",
     "text": [
      "Requirement already satisfied: humanfriendly in c:\\users\\a00017297\\appdata\\local\\continuum\\anaconda3\\lib\\site-packages (4.18)\n",
      "Requirement already satisfied: pyreadline; sys_platform == \"win32\" in c:\\users\\a00017297\\appdata\\local\\continuum\\anaconda3\\lib\\site-packages (from humanfriendly) (2.1)\n",
      "40 seconds and 298.31 milliseconds\n",
      "ExtraTreesClassifier 'test': accuracy: 0.9706 \n",
      "\n",
      "              precision    recall  f1-score   support\n",
      "\n",
      "         0.0       0.97      0.99      0.98       980\n",
      "         1.0       0.99      0.99      0.99      1135\n",
      "         2.0       0.97      0.97      0.97      1032\n",
      "         3.0       0.97      0.96      0.96      1010\n",
      "         4.0       0.97      0.97      0.97       982\n",
      "         5.0       0.97      0.97      0.97       892\n",
      "         6.0       0.98      0.98      0.98       958\n",
      "         7.0       0.97      0.97      0.97      1028\n",
      "         8.0       0.97      0.96      0.96       974\n",
      "         9.0       0.95      0.95      0.95      1009\n",
      "\n",
      "    accuracy                           0.97     10000\n",
      "   macro avg       0.97      0.97      0.97     10000\n",
      "weighted avg       0.97      0.97      0.97     10000\n",
      "\n"
     ]
    }
   ],
   "source": [
    "# install humanfriendly if necessary\n",
    "!pip install humanfriendly\n",
    "\n",
    "import numpy as np, humanfriendly as hf\n",
    "import time\n",
    "from sklearn.ensemble import ExtraTreesClassifier\n",
    "from sklearn.metrics import accuracy_score\n",
    "from sklearn.metrics import classification_report\n",
    "\n",
    "if __name__ == \"__main__\":\n",
    "    br = '\\n'\n",
    "    X_file = 'data/X_mnist'\n",
    "    y_file = 'data/y_mnist'\n",
    "    X = np.load('data/X_mnist.npy')\n",
    "    y = np.load('data/y_mnist.npy')\n",
    "    X = X.astype(np.float32)\n",
    "    X_train, X_test, y_train, y_test = X[:60000], X[60000:],\\\n",
    "                                       y[:60000], y[60000:]\n",
    "    shuffle_index = np.random.permutation(60000)\n",
    "    X_train, y_train = X_train[shuffle_index],\\\n",
    "                       y_train[shuffle_index]\n",
    "    et = ExtraTreesClassifier(random_state=0, n_estimators=100)\n",
    "    start = time.perf_counter()\n",
    "    et.fit(X_train, y_train)\n",
    "    end = time.perf_counter()\n",
    "    elapsed_ls = end - start\n",
    "    print (hf.format_timespan(elapsed_ls, detailed=True))\n",
    "    et_name = et.__class__.__name__\n",
    "    y_pred = et.predict(X_test)\n",
    "    accuracy = accuracy_score(y_test, y_pred)\n",
    "    print (et_name + ' \\'test\\':', end=' ')\n",
    "    print ('accuracy:', accuracy, br)\n",
    "    rpt = classification_report(y_test, y_pred)\n",
    "    print (rpt)"
   ]
  },
  {
   "cell_type": "code",
   "execution_count": null,
   "metadata": {},
   "outputs": [],
   "source": []
  }
 ],
 "metadata": {
  "kernelspec": {
   "display_name": "Python 3",
   "language": "python",
   "name": "python3"
  },
  "language_info": {
   "codemirror_mode": {
    "name": "ipython",
    "version": 3
   },
   "file_extension": ".py",
   "mimetype": "text/x-python",
   "name": "python",
   "nbconvert_exporter": "python",
   "pygments_lexer": "ipython3",
   "version": "3.7.3"
  }
 },
 "nbformat": 4,
 "nbformat_minor": 2
}
