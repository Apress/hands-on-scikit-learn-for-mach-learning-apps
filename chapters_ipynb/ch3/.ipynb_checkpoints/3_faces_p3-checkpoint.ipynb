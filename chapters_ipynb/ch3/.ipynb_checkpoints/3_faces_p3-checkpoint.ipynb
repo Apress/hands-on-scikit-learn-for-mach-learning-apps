{
 "cells": [
  {
   "cell_type": "code",
   "execution_count": 1,
   "metadata": {},
   "outputs": [
    {
     "name": "stdout",
     "output_type": "stream",
     "text": [
      "classification report <<SVC>>\n",
      "              precision    recall  f1-score   support\n",
      "\n",
      "           0       0.94      0.61      0.74        28\n",
      "           1       0.71      0.65      0.68        63\n",
      "           2       0.53      0.67      0.59        24\n",
      "           3       0.76      0.80      0.78       132\n",
      "           4       0.57      0.40      0.47        20\n",
      "           5       0.50      0.55      0.52        22\n",
      "           6       0.61      0.70      0.65        33\n",
      "\n",
      "    accuracy                           0.69       322\n",
      "   macro avg       0.66      0.62      0.63       322\n",
      "weighted avg       0.70      0.69      0.69       322\n",
      "\n"
     ]
    }
   ],
   "source": [
    "import numpy as np\n",
    "from sklearn.decomposition import PCA\n",
    "from sklearn.discriminant_analysis import\\\n",
    "     LinearDiscriminantAnalysis\n",
    "from sklearn.model_selection import train_test_split\n",
    "from sklearn.svm import SVC\n",
    "from sklearn.metrics import classification_report\n",
    "import warnings\n",
    "\n",
    "if __name__ == \"__main__\":\n",
    "    br = '\\n'\n",
    "    warnings.filterwarnings('ignore')\n",
    "    X = np.load('data/X_faces.npy')\n",
    "    y = np.load('data/y_faces.npy')\n",
    "    X_train, X_test, y_train, y_test = train_test_split(\n",
    "        X, y, random_state=0)\n",
    "    pca = PCA(n_components=0.95, whiten=True, random_state=0)\n",
    "    pca.fit(X_train)\n",
    "    components = pca.n_components_\n",
    "    lda = LinearDiscriminantAnalysis(n_components=components)\n",
    "    lda.fit(X_train, y_train)\n",
    "    X_train_lda = lda.transform(X_train)\n",
    "    svm = SVC(kernel='rbf', class_weight='balanced',\n",
    "              gamma='scale', random_state=0)\n",
    "    svm_name = svm.__class__.__name__\n",
    "    svm.fit(X_train_lda, y_train)\n",
    "    X_test_lda = lda.transform(X_test)\n",
    "    y_pred = svm.predict(X_test_lda)\n",
    "    cr = classification_report(y_test, y_pred)\n",
    "    print ('classification report <<' + svm_name+ '>>')\n",
    "    print (cr)"
   ]
  },
  {
   "cell_type": "code",
   "execution_count": null,
   "metadata": {},
   "outputs": [],
   "source": []
  }
 ],
 "metadata": {
  "kernelspec": {
   "display_name": "Python 3",
   "language": "python",
   "name": "python3"
  },
  "language_info": {
   "codemirror_mode": {
    "name": "ipython",
    "version": 3
   },
   "file_extension": ".py",
   "mimetype": "text/x-python",
   "name": "python",
   "nbconvert_exporter": "python",
   "pygments_lexer": "ipython3",
   "version": "3.7.3"
  }
 },
 "nbformat": 4,
 "nbformat_minor": 2
}
