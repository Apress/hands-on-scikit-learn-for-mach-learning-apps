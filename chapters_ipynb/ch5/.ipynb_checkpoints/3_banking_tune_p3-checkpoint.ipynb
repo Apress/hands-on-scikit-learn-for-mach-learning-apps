{
 "cells": [
  {
   "cell_type": "code",
   "execution_count": 3,
   "metadata": {},
   "outputs": [
    {
     "name": "stdout",
     "output_type": "stream",
     "text": [
      "Requirement already satisfied: humanfriendly in c:\\users\\a00017297\\appdata\\local\\continuum\\anaconda3\\lib\\site-packages (4.18)\n",
      "Requirement already satisfied: pyreadline; sys_platform == \"win32\" in c:\\users\\a00017297\\appdata\\local\\continuum\\anaconda3\\lib\\site-packages (from humanfriendly) (2.1)\n",
      "best parameters:\n",
      "{'n_neighbors': 29, 'metric': 'euclidean'} \n",
      "\n",
      "training time: 461.11 milliseconds\n",
      "scoring time: 10 seconds and 24.02 milliseconds\n",
      "\n",
      "KNeighborsClassifier (train, test):\n",
      "0.9154769997733968 0.9138584053607847\n"
     ]
    }
   ],
   "source": [
    "# install humanfriendly if necessary\n",
    "!pip install humanfriendly\n",
    "\n",
    "import numpy as np, humanfriendly as hf, random\n",
    "import time\n",
    "from sklearn.model_selection import train_test_split\n",
    "from sklearn.neighbors import KNeighborsClassifier\n",
    "\n",
    "def get_scores(model, xtrain, ytrain, xtest, ytest):\n",
    "    ypred = model.predict(xtest)\n",
    "    train = model.score(xtrain, ytrain)\n",
    "    test = model.score(xtest, y_test)\n",
    "    name = model.__class__.__name__\n",
    "    return (name, train, test)\n",
    "\n",
    "def see_time(note):\n",
    "    end = time.perf_counter()\n",
    "    elapsed = end - start\n",
    "    print (note,\n",
    "           hf.format_timespan(elapsed, detailed=True))\n",
    "\n",
    "if __name__ == \"__main__\":\n",
    "    br = '\\n'\n",
    "    X = np.load('data/X_bank.npy')\n",
    "    # need to add allow_pickle=True parameter\n",
    "    y = np.load('data/y_bank.npy', allow_pickle=True)\n",
    "    bp = np.load('data/bp_bank.npy', allow_pickle=True)\n",
    "    bp = bp.tolist()\n",
    "    print ('best parameters:')\n",
    "    print (bp, br)\n",
    "    X_train, X_test, y_train, y_test = train_test_split\\\n",
    "                                       (X, y, random_state=0)\n",
    "    start = time.perf_counter()\n",
    "    knn = KNeighborsClassifier(**bp)\n",
    "    knn.fit(X_train, y_train)\n",
    "    see_time('training time:')\n",
    "    start = time.perf_counter()\n",
    "    knn_scores = get_scores(knn, X_train, y_train,\n",
    "                            X_test, y_test)\n",
    "    see_time('scoring time:')\n",
    "    print ()\n",
    "    print (knn_scores[0] + ' (train, test):')\n",
    "    print (knn_scores[1], knn_scores[2])"
   ]
  },
  {
   "cell_type": "code",
   "execution_count": null,
   "metadata": {},
   "outputs": [],
   "source": []
  }
 ],
 "metadata": {
  "kernelspec": {
   "display_name": "Python 3",
   "language": "python",
   "name": "python3"
  },
  "language_info": {
   "codemirror_mode": {
    "name": "ipython",
    "version": 3
   },
   "file_extension": ".py",
   "mimetype": "text/x-python",
   "name": "python",
   "nbconvert_exporter": "python",
   "pygments_lexer": "ipython3",
   "version": "3.7.3"
  }
 },
 "nbformat": 4,
 "nbformat_minor": 2
}
