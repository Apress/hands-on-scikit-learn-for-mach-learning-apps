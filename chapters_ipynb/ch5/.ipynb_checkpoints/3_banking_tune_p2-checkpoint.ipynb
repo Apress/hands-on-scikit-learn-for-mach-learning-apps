{
 "cells": [
  {
   "cell_type": "code",
   "execution_count": 2,
   "metadata": {},
   "outputs": [
    {
     "name": "stdout",
     "output_type": "stream",
     "text": [
      "Requirement already satisfied: humanfriendly in c:\\users\\a00017297\\appdata\\local\\continuum\\anaconda3\\lib\\site-packages (4.18)\n",
      "Requirement already satisfied: pyreadline; sys_platform == \"win32\" in c:\\users\\a00017297\\appdata\\local\\continuum\\anaconda3\\lib\\site-packages (from humanfriendly) (2.1)\n",
      "KNeighborsClassifier(algorithm='auto', leaf_size=30, metric='minkowski',\n",
      "                     metric_params=None, n_jobs=None, n_neighbors=5, p=2,\n",
      "                     weights='uniform') \n",
      "\n",
      "KNeighborsClassifier (train, test):\n",
      "0.929 0.903 \n",
      "\n",
      "Fitting 3 folds for each of 10 candidates, totalling 30 fits\n"
     ]
    },
    {
     "name": "stderr",
     "output_type": "stream",
     "text": [
      "[Parallel(n_jobs=-1)]: Using backend LokyBackend with 8 concurrent workers.\n",
      "[Parallel(n_jobs=-1)]: Done  30 out of  30 | elapsed:   19.7s finished\n"
     ]
    },
    {
     "name": "stdout",
     "output_type": "stream",
     "text": [
      "RandomizedSearchCV total tuning time: 20 seconds and 652.49 milliseconds\n",
      "{'n_neighbors': 29, 'metric': 'euclidean'} \n",
      "\n",
      "KNeighborsClassifier (train, test):\n",
      "0.9076666666666666 0.911 \n",
      "\n",
      "cross-validation score:\n",
      "0.8942542453390334\n"
     ]
    }
   ],
   "source": [
    "# install humanfriendly if necessary\n",
    "!pip install humanfriendly\n",
    "\n",
    "import numpy as np, humanfriendly as hf, random\n",
    "import time\n",
    "from sklearn.model_selection import train_test_split,\\\n",
    "     RandomizedSearchCV, cross_val_score\n",
    "from sklearn.neighbors import KNeighborsClassifier\n",
    "\n",
    "def get_scores(model, xtrain, ytrain, xtest, ytest):\n",
    "    ypred = model.predict(xtest)\n",
    "    train = model.score(xtrain, ytrain)\n",
    "    test = model.score(xtest, y_test)\n",
    "    name = model.__class__.__name__\n",
    "    return (name, train, test)\n",
    "\n",
    "def get_cross(model, data, target, groups=10):\n",
    "    return cross_val_score(model, data, target, cv=groups)\n",
    "\n",
    "def prep_data(data, target):\n",
    "    d = [data[i] for i, _ in enumerate(data)]\n",
    "    t = [target[i] for i, _ in enumerate(target)]\n",
    "    return list(zip(d, t))\n",
    "\n",
    "def create_sample(d, n, replace='yes'):\n",
    "    if replace == 'yes': s = random.sample(d, n)\n",
    "    else: s = [random.choice(d)\n",
    "               for i, _ in enumerate(d) if i < n]\n",
    "    Xs = [row[0] for i, row in enumerate(s)]\n",
    "    ys = [row[1] for i, row in enumerate(s)]\n",
    "    return np.array(Xs), np.array(ys)\n",
    "\n",
    "def see_time(note):\n",
    "    end = time.perf_counter()\n",
    "    elapsed = end - start\n",
    "    print (note,\n",
    "           hf.format_timespan(elapsed, detailed=True))\n",
    "\n",
    "if __name__ == \"__main__\":\n",
    "    br = '\\n'\n",
    "    X = np.load('data/X_bank.npy')\n",
    "    # need to add allow_pickle=True parameter\n",
    "    y = np.load('data/y_bank.npy', allow_pickle=True)\n",
    "    sample_size = 4000\n",
    "    data = prep_data(X, y)\n",
    "    Xs, ys = create_sample(data, sample_size, replace='no')\n",
    "    X_train, X_test, y_train, y_test = train_test_split\\\n",
    "                                       (Xs, ys, random_state=0)\n",
    "    knn = KNeighborsClassifier()\n",
    "    print (knn, br)\n",
    "    knn.fit(X_train, y_train)\n",
    "    knn_scores = get_scores(knn, X_train, y_train,\n",
    "                            X_test, y_test)\n",
    "    print (knn_scores[0] + ' (train, test):')\n",
    "    print (knn_scores[1], knn_scores[2], br)\n",
    "    param_grid = {'n_neighbors': np.arange(1, 31, 2),\n",
    "                  'metric': ['euclidean']}\n",
    "    start = time.perf_counter()\n",
    "    rand = RandomizedSearchCV(knn, param_grid, cv=3, n_jobs = -1,\n",
    "                              random_state=0, verbose=2)\n",
    "    rand.fit(X, y)\n",
    "    see_time('RandomizedSearchCV total tuning time:')\n",
    "    bp = rand.best_params_\n",
    "    print (bp, br)\n",
    "    file = 'data/bp_bank'\n",
    "    np.save(file, bp)\n",
    "    knn_tuned = KNeighborsClassifier(**bp).fit(X_train, y_train)\n",
    "    knn_scores = get_scores(knn_tuned, X_train, y_train,\n",
    "                            X_test, y_test)\n",
    "    print (knn_scores[0] + ' (train, test):')\n",
    "    print (knn_scores[1], knn_scores[2], br)\n",
    "    print ('cross-validation score:')\n",
    "    knn = KNeighborsClassifier()\n",
    "    scores = get_cross(knn, Xs, ys)\n",
    "    print (np.mean(scores))\n"
   ]
  },
  {
   "cell_type": "code",
   "execution_count": null,
   "metadata": {},
   "outputs": [],
   "source": []
  }
 ],
 "metadata": {
  "kernelspec": {
   "display_name": "Python 3",
   "language": "python",
   "name": "python3"
  },
  "language_info": {
   "codemirror_mode": {
    "name": "ipython",
    "version": 3
   },
   "file_extension": ".py",
   "mimetype": "text/x-python",
   "name": "python",
   "nbconvert_exporter": "python",
   "pygments_lexer": "ipython3",
   "version": "3.7.3"
  }
 },
 "nbformat": 4,
 "nbformat_minor": 2
}
