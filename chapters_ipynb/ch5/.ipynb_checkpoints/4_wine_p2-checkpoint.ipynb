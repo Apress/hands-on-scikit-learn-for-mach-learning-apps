{
 "cells": [
  {
   "cell_type": "code",
   "execution_count": 1,
   "metadata": {},
   "outputs": [
    {
     "name": "stdout",
     "output_type": "stream",
     "text": [
      "KNeighborsClassifier(train/test scores):\n",
      "0.9905660377358491 0.9027777777777778\n",
      "QuadraticDiscriminantAnalysis(train/test scores):\n",
      "0.9905660377358491 1.0\n",
      "LinearDiscriminantAnalysis(train/test scores):\n",
      "1.0 0.9722222222222222\n",
      "GaussianNB(train/test scores):\n",
      "0.9905660377358491 0.9444444444444444\n",
      "SVC(train/test scores):\n",
      "1.0 0.9722222222222222\n",
      "AdaBoostClassifier(train/test scores):\n",
      "1.0 0.9027777777777778\n",
      "DecisionTreeClassifier(train/test scores):\n",
      "1.0 0.9166666666666666\n",
      "SGDClassifier(train/test scores):\n",
      "1.0 0.9861111111111112\n",
      "GaussianProcessClassifier(train/test scores):\n",
      "1.0 0.9722222222222222\n",
      "RandomForestClassifier(train/test scores):\n",
      "1.0 0.9583333333333334\n"
     ]
    }
   ],
   "source": [
    "from sklearn.datasets import load_wine\n",
    "from sklearn.neighbors import KNeighborsClassifier as knn\n",
    "from sklearn.svm import SVC\n",
    "from sklearn.gaussian_process import\\\n",
    "     GaussianProcessClassifier as gpc\n",
    "from sklearn.gaussian_process.kernels import RBF as rbf\n",
    "from sklearn.tree import DecisionTreeClassifier as dt\n",
    "from sklearn.ensemble import RandomForestClassifier as rf,\\\n",
    "     AdaBoostClassifier as ada\n",
    "from sklearn.naive_bayes import GaussianNB as gnb\n",
    "from sklearn.discriminant_analysis import\\\n",
    "     QuadraticDiscriminantAnalysis as qda,\\\n",
    "     LinearDiscriminantAnalysis as lda\n",
    "from sklearn.linear_model import SGDClassifier as sgd\n",
    "from sklearn.preprocessing import StandardScaler\n",
    "from sklearn.model_selection import train_test_split\n",
    "from sklearn import metrics\n",
    "\n",
    "if __name__ == \"__main__\":\n",
    "    br = '\\n'\n",
    "    wine = load_wine()\n",
    "    X = wine.data\n",
    "    y = wine.target\n",
    "    X = StandardScaler().fit_transform(X)\n",
    "    X_train, X_test, y_train, y_test = train_test_split(\n",
    "        X, y, test_size=.4, random_state=0)\n",
    "    classifiers = [knn(3), qda(), lda(), gnb(), \n",
    "                   SVC(kernel='linear', gamma='scale',\n",
    "                       random_state=0),\n",
    "                   ada(random_state=0), dt(random_state=0),\n",
    "                   sgd(max_iter=100, random_state=0),\n",
    "                   gpc(1.0 * rbf(1.0), random_state=0),\n",
    "                   rf(random_state=0, n_estimators=100)]\n",
    "    for clf in classifiers:\n",
    "        clf.fit(X_train, y_train)\n",
    "        train_score = clf.score(X_train, y_train)\n",
    "        test_score = clf.score(X_test, y_test)\n",
    "        name = clf.__class__.__name__\n",
    "        print (name + '(train/test scores):')\n",
    "        print (train_score, test_score)"
   ]
  },
  {
   "cell_type": "code",
   "execution_count": null,
   "metadata": {},
   "outputs": [],
   "source": []
  }
 ],
 "metadata": {
  "kernelspec": {
   "display_name": "Python 3",
   "language": "python",
   "name": "python3"
  },
  "language_info": {
   "codemirror_mode": {
    "name": "ipython",
    "version": 3
   },
   "file_extension": ".py",
   "mimetype": "text/x-python",
   "name": "python",
   "nbconvert_exporter": "python",
   "pygments_lexer": "ipython3",
   "version": "3.7.3"
  }
 },
 "nbformat": 4,
 "nbformat_minor": 2
}
