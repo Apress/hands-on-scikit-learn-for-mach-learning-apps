{
 "cells": [
  {
   "cell_type": "code",
   "execution_count": 2,
   "metadata": {},
   "outputs": [
    {
     "name": "stdout",
     "output_type": "stream",
     "text": [
      "Requirement already satisfied: humanfriendly in c:\\users\\a00017297\\appdata\\local\\continuum\\anaconda3\\lib\\site-packages (4.18)\n",
      "Requirement already satisfied: pyreadline; sys_platform == \"win32\" in c:\\users\\a00017297\\appdata\\local\\continuum\\anaconda3\\lib\\site-packages (from humanfriendly) (2.1)\n",
      "SVC(C=1.0, cache_size=200, class_weight=None, coef0=0.0,\n",
      "    decision_function_shape='ovr', degree=3, gamma='scale', kernel='rbf',\n",
      "    max_iter=-1, probability=False, random_state=0, shrinking=True, tol=0.001,\n",
      "    verbose=False) \n",
      "\n",
      "SVC (train, test):\n",
      "0.945 0.896 \n",
      "\n",
      "Fitting 3 folds for each of 2 candidates, totalling 6 fits\n"
     ]
    },
    {
     "name": "stderr",
     "output_type": "stream",
     "text": [
      "[Parallel(n_jobs=-1)]: Using backend LokyBackend with 8 concurrent workers.\n",
      "[Parallel(n_jobs=-1)]: Done   3 out of   6 | elapsed:   33.3s remaining:   33.3s\n",
      "[Parallel(n_jobs=-1)]: Done   6 out of   6 | elapsed:   36.4s finished\n"
     ]
    },
    {
     "name": "stdout",
     "output_type": "stream",
     "text": [
      "RandomizedSearchCV total tuning time: 1 minute, 6 seconds and 874.67 milliseconds\n",
      "{'C': 0.0001} \n",
      "\n",
      "SVC (train, test):\n",
      "0.8946666666666667 0.885 \n",
      "\n",
      "cross-validation score:\n",
      "0.9049998937493358\n"
     ]
    }
   ],
   "source": [
    "# install humanfriendly if necessary\n",
    "!pip install humanfriendly\n",
    "\n",
    "import numpy as np, humanfriendly as hf, random\n",
    "import time\n",
    "from sklearn.model_selection import train_test_split,\\\n",
    "     RandomizedSearchCV, cross_val_score\n",
    "from sklearn.preprocessing import StandardScaler\n",
    "from sklearn.svm import SVC\n",
    "\n",
    "def get_scores(model, xtrain, ytrain, xtest, ytest):\n",
    "    ypred = model.predict(xtest)\n",
    "    train = model.score(xtrain, ytrain)\n",
    "    test = model.score(xtest, y_test)\n",
    "    name = model.__class__.__name__\n",
    "    return (name, train, test)\n",
    "\n",
    "def get_cross(model, data, target, groups=10):\n",
    "    return cross_val_score(model, data, target, cv=groups)\n",
    "\n",
    "def prep_data(data, target):\n",
    "    d = [data[i] for i, _ in enumerate(data)]\n",
    "    t = [target[i] for i, _ in enumerate(target)]\n",
    "    return list(zip(d, t))\n",
    "\n",
    "def create_sample(d, n, replace='yes'):\n",
    "    if replace == 'yes': s = random.sample(d, n)\n",
    "    else: s = [random.choice(d)\n",
    "               for i, _ in enumerate(d) if i < n]\n",
    "    Xs = [row[0] for i, row in enumerate(s)]\n",
    "    ys = [row[1] for i, row in enumerate(s)]\n",
    "    return np.array(Xs), np.array(ys)\n",
    "\n",
    "def see_time(note):\n",
    "    end = time.perf_counter()\n",
    "    elapsed = end - start\n",
    "    print (note,\n",
    "           hf.format_timespan(elapsed, detailed=True))\n",
    "\n",
    "if __name__ == \"__main__\":\n",
    "    br = '\\n'\n",
    "    X = np.load('data/X_bank.npy')\n",
    "    # need to add allow_pickle=True parameter\n",
    "    y = np.load('data/y_bank.npy', allow_pickle=True)\n",
    "    sample_size = 4000\n",
    "    data = prep_data(X, y)\n",
    "    Xs, ys = create_sample(data, sample_size, replace='no')\n",
    "    Xs = StandardScaler().fit_transform(Xs)\n",
    "    X_train, X_test, y_train, y_test = train_test_split\\\n",
    "                                       (Xs, ys, random_state=0)\n",
    "    svm = SVC(gamma='scale', random_state=0)\n",
    "    print (svm, br)\n",
    "    svm.fit(X_train, y_train)\n",
    "    svm_scores = get_scores(svm, X_train, y_train,\n",
    "                            X_test, y_test)\n",
    "    print (svm_scores[0] + ' (train, test):')\n",
    "    print (svm_scores[1], svm_scores[2], br)\n",
    "    Cs = [0.0001, 0.001]\n",
    "    param_grid = {'C': Cs}\n",
    "    start = time.perf_counter()\n",
    "    rand = RandomizedSearchCV(svm, param_grid, cv=3, n_jobs = -1,\n",
    "                              random_state=0, verbose=2,\n",
    "                              n_iter=2)\n",
    "    rand.fit(X, y)\n",
    "    see_time('RandomizedSearchCV total tuning time:')\n",
    "    bp = rand.best_params_\n",
    "    print (bp, br)\n",
    "    svm_tuned = SVC(**bp, gamma='scale', random_state=0)\n",
    "    svm_tuned.fit(X_train, y_train)\n",
    "    svm_scores = get_scores(svm_tuned, X_train, y_train,\n",
    "                            X_test, y_test)\n",
    "    print (svm_scores[0] + ' (train, test):')\n",
    "    print (svm_scores[1], svm_scores[2], br)\n",
    "    print ('cross-validation score:')\n",
    "    svm = SVC(gamma='scale')\n",
    "    scores = get_cross(svm, Xs, ys)\n",
    "    print (np.mean(scores))"
   ]
  },
  {
   "cell_type": "code",
   "execution_count": null,
   "metadata": {},
   "outputs": [],
   "source": []
  }
 ],
 "metadata": {
  "kernelspec": {
   "display_name": "Python 3",
   "language": "python",
   "name": "python3"
  },
  "language_info": {
   "codemirror_mode": {
    "name": "ipython",
    "version": 3
   },
   "file_extension": ".py",
   "mimetype": "text/x-python",
   "name": "python",
   "nbconvert_exporter": "python",
   "pygments_lexer": "ipython3",
   "version": "3.7.3"
  }
 },
 "nbformat": 4,
 "nbformat_minor": 2
}
