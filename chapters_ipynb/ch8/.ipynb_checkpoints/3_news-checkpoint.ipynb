{
 "cells": [
  {
   "cell_type": "code",
   "execution_count": 2,
   "metadata": {},
   "outputs": [
    {
     "name": "stdout",
     "output_type": "stream",
     "text": [
      "targets:\n",
      "['rec.autos', 'rec.motorcycles', 'sci.med', 'sci.space'] \n",
      "\n",
      "best parameters:\n",
      "{'tfidfvectorizer__use_idf': False, 'tfidfvectorizer__ngram_range': (1, 1), 'multinomialnb__fit_prior': False, 'multinomialnb__alpha': 0.01} \n",
      "\n",
      "f1_score 0.8680555555555556 \n",
      "\n",
      "***PREDICTIONS***:\n",
      "sci.space\n",
      "rec.autos\n",
      "sci.med\n"
     ]
    },
    {
     "data": {
      "image/png": "[encoded data removed]",
      "text/plain": [
       "<Figure size 432x288 with 1 Axes>"
      ]
     },
     "metadata": {
      "needs_background": "light"
     },
     "output_type": "display_data"
    }
   ],
   "source": [
    "import numpy as np\n",
    "from sklearn.datasets import fetch_20newsgroups\n",
    "from sklearn.feature_extraction.text import TfidfVectorizer\n",
    "from sklearn.naive_bayes import MultinomialNB\n",
    "from sklearn.pipeline import make_pipeline\n",
    "from sklearn.metrics import f1_score, confusion_matrix\n",
    "import matplotlib.pyplot as plt\n",
    "import seaborn as sns\n",
    "\n",
    "def predict_category(s, m, t):\n",
    "    pred = m.predict([s])\n",
    "    return t[pred[0]]\n",
    "\n",
    "if __name__ == \"__main__\":\n",
    "    br = '\\n'\n",
    "    train = fetch_20newsgroups(subset='train')\n",
    "    test = fetch_20newsgroups(subset='test')\n",
    "    categories = ['rec.autos', 'rec.motorcycles',\n",
    "                  'sci.space', 'sci.med']\n",
    "    train = fetch_20newsgroups(subset='train',\n",
    "                               categories=categories,\n",
    "                               remove=('headers', 'footers',\n",
    "                                       'quotes'))\n",
    "    test = fetch_20newsgroups(subset='test',\n",
    "                              categories=categories,\n",
    "                              remove=('headers', 'footers',\n",
    "                                      'quotes'))\n",
    "    targets = train.target_names\n",
    "    print ('targets:')\n",
    "    print (targets, br)\n",
    "    # need allow_pickle=True parameter\n",
    "    bp = np.load('data/bp_news.npy', allow_pickle=True)\n",
    "    bp = bp.tolist()\n",
    "    print ('best parameters:')\n",
    "    print (bp, br)\n",
    "    mnb = MultinomialNB(alpha=0.01, fit_prior=False)\n",
    "    tf = TfidfVectorizer(ngram_range=(1, 1), use_idf=False)\n",
    "    pipe = make_pipeline(tf, mnb)\n",
    "    pipe.fit(train.data, train.target)\n",
    "    labels = pipe.predict(test.data)\n",
    "    f1 = f1_score(test.target, labels, average='micro')\n",
    "    print ('f1_score', f1, br)\n",
    "    labels = pipe.predict(test.data)\n",
    "    cm = confusion_matrix(test.target, labels)\n",
    "    plt.figure('confusion matrix')\n",
    "    sns.heatmap(cm.T, square=True, annot=True, fmt='d',\n",
    "                cmap='gist_ncar_r',\n",
    "                xticklabels=train.target_names,\n",
    "                yticklabels=train.target_names, cbar=False)\n",
    "    plt.xlabel('true label')\n",
    "    plt.ylabel('predicted label')\n",
    "    plt.tight_layout()\n",
    "    print ('***PREDICTIONS***:')\n",
    "    doc1 = 'imagine the stars ...'\n",
    "    doc2 = 'crashed on highway without seatbelt'\n",
    "    doc3 = 'dad hated the medicine ...'\n",
    "    y_pred = predict_category(doc1, pipe, targets)\n",
    "    print (y_pred)\n",
    "    y_pred = predict_category(doc2, pipe, targets)\n",
    "    print (y_pred)\n",
    "    y_pred = predict_category(doc3, pipe, targets)\n",
    "    print (y_pred)\n",
    "    plt.show()"
   ]
  },
  {
   "cell_type": "code",
   "execution_count": null,
   "metadata": {},
   "outputs": [],
   "source": []
  }
 ],
 "metadata": {
  "kernelspec": {
   "display_name": "Python 3",
   "language": "python",
   "name": "python3"
  },
  "language_info": {
   "codemirror_mode": {
    "name": "ipython",
    "version": 3
   },
   "file_extension": ".py",
   "mimetype": "text/x-python",
   "name": "python",
   "nbconvert_exporter": "python",
   "pygments_lexer": "ipython3",
   "version": "3.7.3"
  }
 },
 "nbformat": 4,
 "nbformat_minor": 2
}
