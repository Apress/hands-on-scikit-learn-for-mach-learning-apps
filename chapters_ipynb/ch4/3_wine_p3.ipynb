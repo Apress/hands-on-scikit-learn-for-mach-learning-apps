{
 "cells": [
  {
   "cell_type": "code",
   "execution_count": 1,
   "metadata": {},
   "outputs": [
    {
     "name": "stdout",
     "output_type": "stream",
     "text": [
      "0.6382400982927325 (squared polynomial fitting)\n",
      "0.8255721301856248 (cubic polynomial fitting)\n",
      "99.08181446123885 (quartic polynomial fitting)\n"
     ]
    }
   ],
   "source": [
    "import numpy as np, pandas as pd\n",
    "from sklearn.model_selection import train_test_split\n",
    "from sklearn.linear_model import LinearRegression\n",
    "from sklearn.metrics import mean_squared_error\n",
    "from sklearn.preprocessing import PolynomialFeatures\n",
    "\n",
    "def get_scores(model, Xtest, ytest):\n",
    "    y_pred = model.predict(Xtest)\n",
    "    return np.sqrt(mean_squared_error(ytest, y_pred)),\\\n",
    "           model.__class__.__name__\n",
    "\n",
    "if __name__ == \"__main__\":\n",
    "    br = '\\n'\n",
    "    d = dict()\n",
    "    X = np.load('data/X_red.npy')\n",
    "    y = np.load('data/y_red.npy')\n",
    "    X_train, X_test, y_train, y_test =  train_test_split(\n",
    "        X, y, test_size=0.2, random_state=0)\n",
    "    poly = PolynomialFeatures(degree=2)\n",
    "    poly.fit(X_train, y_train)\n",
    "    X_train_poly = poly.transform(X_train)\n",
    "    lr = LinearRegression().fit(X_train_poly, y_train)\n",
    "    X_test_poly = poly.transform(X_test)\n",
    "    rmse, lr_name = get_scores(lr, X_test_poly, y_test)\n",
    "    print (rmse, '(squared polynomial fitting)')\n",
    "    poly = PolynomialFeatures(degree=3)\n",
    "    poly.fit(X_train, y_train)\n",
    "    X_train_poly = poly.transform(X_train)\n",
    "    lr = LinearRegression().fit(X_train_poly, y_train)\n",
    "    X_test_poly = poly.transform(X_test)\n",
    "    rmse, lr_name = get_scores(lr, X_test_poly, y_test)\n",
    "    print (rmse, '(cubic polynomial fitting)')\n",
    "    poly = PolynomialFeatures(degree=4)\n",
    "    poly.fit(X_train, y_train)\n",
    "    X_train_poly = poly.transform(X_train)\n",
    "    lr = LinearRegression().fit(X_train_poly, y_train)\n",
    "    X_test_poly = poly.transform(X_test)\n",
    "    rmse, lr_name = get_scores(lr, X_test_poly, y_test)\n",
    "    print (rmse, '(quartic polynomial fitting)')"
   ]
  },
  {
   "cell_type": "code",
   "execution_count": null,
   "metadata": {},
   "outputs": [],
   "source": []
  }
 ],
 "metadata": {
  "kernelspec": {
   "display_name": "Python 3",
   "language": "python",
   "name": "python3"
  },
  "language_info": {
   "codemirror_mode": {
    "name": "ipython",
    "version": 3
   },
   "file_extension": ".py",
   "mimetype": "text/x-python",
   "name": "python",
   "nbconvert_exporter": "python",
   "pygments_lexer": "ipython3",
   "version": "3.7.3"
  }
 },
 "nbformat": 4,
 "nbformat_minor": 2
}
