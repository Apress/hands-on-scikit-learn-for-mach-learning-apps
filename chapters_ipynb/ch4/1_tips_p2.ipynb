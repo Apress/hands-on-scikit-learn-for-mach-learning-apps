{
 "cells": [
  {
   "cell_type": "code",
   "execution_count": 1,
   "metadata": {},
   "outputs": [
    {
     "name": "stdout",
     "output_type": "stream",
     "text": [
      "one hot encoding:\n",
      "[[0 0 1 0 1 0 1 0 1 0]\n",
      " [0 0 1 0 0 1 1 0 1 0]\n",
      " [0 0 1 0 0 1 1 0 1 0]] \n",
      "\n",
      "encoding order:\n",
      "['day=Fri', 'day=Sat', 'day=Sun', 'day=Thur', 'sex=Female', 'sex=Male', 'smoker=No', 'smoker=Yes', 'time=Dinner', 'time=Lunch'] \n",
      "\n",
      "feature shape after removing categorical columns:\n",
      "(244, 2) \n",
      "\n",
      "feature shape after adding encoded data back:\n",
      "(244, 12) \n",
      "\n",
      "<<LinearRegression>> \n",
      "\n",
      "0.9636287548943022 (rmse) \n",
      "\n",
      "predict 1st test set element (actual/prediction):\n",
      "2.64 2.81211304380231 \n",
      "\n",
      "random integers: [197, 156, 185] \n",
      "\n",
      "[5.27, 6.25, 3.65] (predicted)\n",
      "[5.0, 5.0, 5.0] (actual)\n"
     ]
    }
   ],
   "source": [
    "import pandas as pd, numpy as np\n",
    "from sklearn.feature_extraction import DictVectorizer\n",
    "from sklearn.linear_model import LinearRegression\n",
    "from sklearn.model_selection import train_test_split\n",
    "from sklearn.metrics import mean_squared_error\n",
    "from random import randint\n",
    "\n",
    "if __name__ == \"__main__\":\n",
    "    br = '\\n'\n",
    "    tips = pd.read_csv('data/tips.csv')\n",
    "    data = tips.drop(['tip'], axis=1)\n",
    "    target = tips['tip']\n",
    "    v = ['sex', 'smoker', 'day', 'time']\n",
    "    ls = data[v].to_dict(orient='records')\n",
    "    vector = DictVectorizer(sparse=False, dtype=int)\n",
    "    d = vector.fit_transform(ls)\n",
    "    print ('one hot encoding:')\n",
    "    print (d[0:3], br)\n",
    "    print ('encoding order:')\n",
    "    encode_order = vector.get_feature_names()\n",
    "    print (encode_order, br)\n",
    "    data = data.drop(['sex', 'smoker', 'day', 'time'], axis=1)\n",
    "    X = data.values\n",
    "    print ('feature shape after removing categorical columns:')\n",
    "    print (X.shape, br)\n",
    "    Xls, dls = X.tolist(), d.tolist()\n",
    "    X = [np.array(row + dls[i]) for i, row in enumerate(Xls)]\n",
    "    X = np.array(X)\n",
    "    y = target.values\n",
    "    print ('feature shape after adding encoded data back:')\n",
    "    print (X.shape, br)\n",
    "    X_train, X_test, y_train, y_test = train_test_split(\n",
    "        X, y, random_state=0)\n",
    "    model = LinearRegression(fit_intercept=True)\n",
    "    model_name = model.__class__.__name__\n",
    "    print ('<<' + model_name  +  '>>', br)\n",
    "    model.fit(X_train, y_train)\n",
    "    y_pred = model.predict(X_test)\n",
    "    rmse = np.sqrt(mean_squared_error(y_test, y_pred))\n",
    "    print (rmse, '(rmse)', br)\n",
    "    print ('predict 1st test set element (actual/prediction):')\n",
    "    print (y_test[0], y_pred[0], br)\n",
    "    rints = [randint(0, y.shape[0]-1) for row in range(3)]\n",
    "    print ('random integers:', rints, br)\n",
    "    p = [X[rints[0]], X[rints[1]], X[rints[2]]]\n",
    "    y_p = model.predict(p)\n",
    "    y_p = list(np.around(y_p, 2))\n",
    "    print (y_p, '(predicted)')\n",
    "    print ([y[rints[0]], y[rints[1]], y[rints[2]]], '(actual)')"
   ]
  },
  {
   "cell_type": "code",
   "execution_count": null,
   "metadata": {},
   "outputs": [],
   "source": []
  }
 ],
 "metadata": {
  "kernelspec": {
   "display_name": "Python 3",
   "language": "python",
   "name": "python3"
  },
  "language_info": {
   "codemirror_mode": {
    "name": "ipython",
    "version": 3
   },
   "file_extension": ".py",
   "mimetype": "text/x-python",
   "name": "python",
   "nbconvert_exporter": "python",
   "pygments_lexer": "ipython3",
   "version": "3.7.3"
  }
 },
 "nbformat": 4,
 "nbformat_minor": 2
}
