{
 "cells": [
  {
   "cell_type": "code",
   "execution_count": 1,
   "metadata": {},
   "outputs": [
    {
     "name": "stdout",
     "output_type": "stream",
     "text": [
      "(1599, 11)\n",
      "(1599,) \n",
      "\n",
      "(0.27432500255956216, 'alcohol')\n",
      "(0.13700073893077233, 'sulphates')\n",
      "(0.13053941311188708, 'volatile acidity')\n",
      "(0.08068199773601588, 'total sulfur dioxide')\n",
      "(0.06294612644261727, 'chlorides')\n",
      "(0.057730976351602854, 'pH')\n",
      "(0.055499749756166, 'residual sugar')\n",
      "(0.05198192402458334, 'density')\n",
      "(0.05114079873500658, 'fixed acidity')\n",
      "(0.049730883807319035, 'free sulfur dioxide')\n",
      "(0.04842238854446754, 'citric acid')\n",
      "\n",
      "   alcohol  sulphates  volatile acidity  total sulfur dioxide  quality\n",
      "0      9.4       0.56              0.70                  34.0      5.0\n",
      "1      9.8       0.68              0.88                  67.0      5.0\n",
      "2      9.8       0.65              0.76                  54.0      5.0\n",
      "3      9.8       0.58              0.28                  60.0      6.0\n",
      "4      9.4       0.56              0.70                  34.0      5.0\n"
     ]
    }
   ],
   "source": [
    "import numpy as np, pandas as pd\n",
    "from sklearn.ensemble import RandomForestRegressor\n",
    "\n",
    "if __name__ == \"__main__\":\n",
    "    br = '\\n'\n",
    "    f = 'data/redwine.csv'\n",
    "    red_wine = pd.read_csv(f)\n",
    "    X = red_wine.drop(['quality'], axis=1)\n",
    "    y = red_wine['quality']\n",
    "    print (X.shape)\n",
    "    print (y.shape, br)\n",
    "    features = list(X)\n",
    "    rfr = RandomForestRegressor(random_state=0,\n",
    "                                n_estimators=100)\n",
    "    rfr.fit(X, y)\n",
    "    feature_importances = rfr.feature_importances_\n",
    "    importance = sorted(zip(feature_importances, features),\n",
    "                        reverse=True)\n",
    "    for row in importance:\n",
    "        print (row)\n",
    "    print ()\n",
    "    print (red_wine[['alcohol', 'sulphates', 'volatile acidity',\n",
    "                     'total sulfur dioxide', 'quality']]. head())\n",
    "    X_file = 'data/X_red'\n",
    "    y_file = 'data/y_red'\n",
    "    np.save(X_file, X)\n",
    "    np.save(y_file, y)"
   ]
  },
  {
   "cell_type": "code",
   "execution_count": null,
   "metadata": {},
   "outputs": [],
   "source": []
  }
 ],
 "metadata": {
  "kernelspec": {
   "display_name": "Python 3",
   "language": "python",
   "name": "python3"
  },
  "language_info": {
   "codemirror_mode": {
    "name": "ipython",
    "version": 3
   },
   "file_extension": ".py",
   "mimetype": "text/x-python",
   "name": "python",
   "nbconvert_exporter": "python",
   "pygments_lexer": "ipython3",
   "version": "3.7.3"
  }
 },
 "nbformat": 4,
 "nbformat_minor": 2
}
