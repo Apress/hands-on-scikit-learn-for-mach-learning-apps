{
 "cells": [
  {
   "cell_type": "code",
   "execution_count": 1,
   "metadata": {},
   "outputs": [
    {
     "name": "stdout",
     "output_type": "stream",
     "text": [
      "feature shape (490, 13)\n",
      "target shape (490,) \n",
      "\n",
      "rmse:\n",
      "3.37169151536684 (RandomForestRegressor)\n",
      "4.236710574387244 (LinearRegression)\n",
      "4.252698602617347 (Ridge)\n",
      "5.097231463859833 (Lasso)\n",
      "4.888448467452129 (ElasticNet)\n",
      "4.410035683951274 (SGDRegressor - scaled)\n"
     ]
    }
   ],
   "source": [
    "import numpy as np\n",
    "from sklearn.datasets import load_boston\n",
    "from sklearn.model_selection import train_test_split\n",
    "from sklearn.linear_model import LinearRegression, Ridge,\\\n",
    "     Lasso, ElasticNet, SGDRegressor\n",
    "from sklearn.ensemble import RandomForestRegressor\n",
    "from sklearn.metrics import mean_squared_error\n",
    "from sklearn.preprocessing import StandardScaler\n",
    "\n",
    "def get_scores(model, Xtest, ytest):\n",
    "    y_pred = model.predict(Xtest)\n",
    "    return np.sqrt(mean_squared_error(ytest, y_pred)),\\\n",
    "           model.__class__.__name__\n",
    "\n",
    "if __name__ == \"__main__\":\n",
    "    br = '\\n'\n",
    "    X = np.load('data/X_boston.npy')\n",
    "    y = np.load('data/y_boston.npy')\n",
    "    print ('feature shape', X.shape)\n",
    "    print ('target shape', y.shape, br)\n",
    "    X_train, X_test, y_train, y_test = train_test_split(\n",
    "        X, y, random_state=0)\n",
    "    print ('rmse:')\n",
    "    rfr = RandomForestRegressor(random_state=0,\n",
    "                                n_estimators=100)\n",
    "    rfr.fit(X_train, y_train)\n",
    "    rmse, rfr_name = get_scores(rfr, X_test, y_test)\n",
    "    print (rmse, '(' + rfr_name + ')')\n",
    "    lr = LinearRegression().fit(X_train, y_train)\n",
    "    rmse, lr_name = get_scores(lr, X_test, y_test)\n",
    "    print (rmse, '(' + lr_name + ')')\n",
    "    ridge = Ridge(random_state=0).fit(X_train, y_train)\n",
    "    rmse, ridge_name = get_scores(ridge, X_test, y_test)\n",
    "    print (rmse, '(' + ridge_name + ')')\n",
    "    lasso = Lasso(random_state=0).fit(X_train, y_train)\n",
    "    rmse, lasso_name = get_scores(lasso, X_test, y_test)\n",
    "    print (rmse, '(' + lasso_name + ')')\n",
    "    en = ElasticNet(random_state=0).fit(X_train, y_train)\n",
    "    rmse, en_name = get_scores(en, X_test, y_test)\n",
    "    print (rmse, '(' + en_name + ')')\n",
    "    scaler = StandardScaler()\n",
    "    X_train_std = scaler.fit_transform(X_train)\n",
    "    X_test_std = scaler.fit_transform(X_test)\n",
    "    sgdr_std = SGDRegressor(random_state=0,\n",
    "                            max_iter=1000, tol=0.001)\n",
    "    sgdr_std.fit(X_train_std, y_train)\n",
    "    rmse, sgdr_name = get_scores(sgdr_std, X_test_std, y_test)\n",
    "    print (rmse, '(' + sgdr_name + ' - scaled)')"
   ]
  },
  {
   "cell_type": "code",
   "execution_count": null,
   "metadata": {},
   "outputs": [],
   "source": []
  }
 ],
 "metadata": {
  "kernelspec": {
   "display_name": "Python 3",
   "language": "python",
   "name": "python3"
  },
  "language_info": {
   "codemirror_mode": {
    "name": "ipython",
    "version": 3
   },
   "file_extension": ".py",
   "mimetype": "text/x-python",
   "name": "python",
   "nbconvert_exporter": "python",
   "pygments_lexer": "ipython3",
   "version": "3.7.3"
  }
 },
 "nbformat": 4,
 "nbformat_minor": 2
}
