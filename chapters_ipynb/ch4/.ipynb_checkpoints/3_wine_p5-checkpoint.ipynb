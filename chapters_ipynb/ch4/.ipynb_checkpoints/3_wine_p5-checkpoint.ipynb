{
 "cells": [
  {
   "cell_type": "code",
   "execution_count": 2,
   "metadata": {},
   "outputs": [
    {
     "name": "stdout",
     "output_type": "stream",
     "text": [
      "rmse (unscaled):\n",
      "0.687111151629689 (RandomForestRegressor)\n",
      "0.8123086554972423 (LinearRegression)\n",
      "0.8141615403447382 (Ridge)\n",
      "0.9255803421282806 (Lasso)\n",
      "0.9242810596011943 (ElasticNet) \n",
      "\n",
      "rmse scaled:\n",
      "0.8092835779827245 (SGDRegressor) \n",
      "\n",
      "PolynomialFeatures (rmse):\n",
      "0.7767527799590593 (Pipeline)\n",
      "0.7767527799590593 (without Pipeline)\n"
     ]
    },
    {
     "data": {
      "image/png": "[encoded data removed]",
      "text/plain": [
       "<Figure size 432x288 with 1 Axes>"
      ]
     },
     "metadata": {
      "needs_background": "light"
     },
     "output_type": "display_data"
    }
   ],
   "source": [
    "import numpy as np, pandas as pd\n",
    "from sklearn.ensemble import RandomForestRegressor\n",
    "from sklearn.model_selection import train_test_split\n",
    "from sklearn.linear_model import LinearRegression,\\\n",
    "     Ridge, Lasso, ElasticNet, SGDRegressor\n",
    "from sklearn.metrics import mean_squared_error\n",
    "from sklearn.preprocessing import StandardScaler\n",
    "from sklearn.preprocessing import PolynomialFeatures\n",
    "from sklearn.pipeline import Pipeline\n",
    "import matplotlib.pyplot as plt, seaborn as sns\n",
    "\n",
    "def get_scores(model, Xtest, ytest):\n",
    "    y_pred = model.predict(Xtest)\n",
    "    return np.sqrt(mean_squared_error(ytest, y_pred)),\\\n",
    "           model.__class__.__name__\n",
    "\n",
    "if __name__ == \"__main__\":\n",
    "    br = '\\n'\n",
    "    d = dict()\n",
    "    X = np.load('data/X_white.npy')\n",
    "    y = np.load('data/y_white.npy')\n",
    "    X_train, X_test, y_train, y_test =  train_test_split(\n",
    "        X, y, test_size=0.2, random_state=0)\n",
    "    print ('rmse (unscaled):')\n",
    "    rfr = RandomForestRegressor(random_state=0,\n",
    "                                n_estimators=100)\n",
    "    rfr.fit(X_train, y_train)\n",
    "    rmse, rfr_name = get_scores(rfr, X_test, y_test)\n",
    "    d['rfr'] = [rmse]\n",
    "    print (rmse, '(' + rfr_name + ')')\n",
    "    lr = LinearRegression().fit(X_train, y_train)\n",
    "    rmse, lr_name = get_scores(lr, X_test, y_test)\n",
    "    d['lr'] = [rmse]\n",
    "    print (rmse, '(' + lr_name + ')')\n",
    "    ridge = Ridge(random_state=0).fit(X_train, y_train)\n",
    "    rmse, ridge_name = get_scores(ridge, X_test, y_test)\n",
    "    d['ridge'] = [rmse]\n",
    "    print (rmse, '(' + ridge_name + ')')\n",
    "    lasso = Lasso(random_state=0).fit(X_train, y_train)\n",
    "    rmse, lasso_name = get_scores(lasso, X_test, y_test)\n",
    "    d['lasso'] = [rmse]\n",
    "    print (rmse, '(' + lasso_name + ')')\n",
    "    en = ElasticNet(random_state=0).fit(X_train, y_train)\n",
    "    rmse, en_name = get_scores(en, X_test, y_test)\n",
    "    d['en'] = [rmse]\n",
    "    print (rmse, '(' + en_name + ')', br)\n",
    "    scaler = StandardScaler()\n",
    "    X_train_std = scaler.fit_transform(X_train)\n",
    "    X_test_std = scaler.fit_transform(X_test)\n",
    "    print ('rmse scaled:')\n",
    "    sgd = SGDRegressor(max_iter=1000, tol=0.001,\n",
    "                       random_state=0)\n",
    "    sgd.fit(X_train_std, y_train)\n",
    "    rmse, sgd_name = get_scores(sgd, X_test_std, y_test)\n",
    "    d['sgd'] = [rmse]\n",
    "    print (rmse, '(' + sgd_name + ')', br)\n",
    "    pipe = Pipeline([('poly', PolynomialFeatures(degree=2)),\n",
    "                     ('linear', LinearRegression())])\n",
    "    model = pipe.fit(X_train, y_train)\n",
    "    rmse, pf_name = get_scores(model, X_test, y_test)\n",
    "    d['poly'] = [rmse]\n",
    "    print (PolynomialFeatures().__class__.__name__,\n",
    "           '(rmse):')\n",
    "    print (rmse, '(' + pf_name + ')')\n",
    "    poly = PolynomialFeatures(degree=2)\n",
    "    poly.fit(X_train, y_train)\n",
    "    X_train_poly = poly.transform(X_train)\n",
    "    lr = LinearRegression().fit(X_train_poly, y_train)\n",
    "    X_test_poly = poly.transform(X_test)\n",
    "    rmse, lr_name = get_scores(lr, X_test_poly, y_test)\n",
    "    print (rmse, '(without Pipeline)')\n",
    "    algo, rmse = [], []\n",
    "    for key, value in d.items():\n",
    "        algo.append(key)\n",
    "        rmse.append(value[0])\n",
    "    plt.figure('RMSE')\n",
    "    sns.set(style=\"whitegrid\")\n",
    "    ax = sns.barplot(algo, rmse)\n",
    "    plt.title('White Wine Algorithm Comparison')\n",
    "    plt.xlabel('regressor')\n",
    "    plt.ylabel('RMSE')\n",
    "    plt.show()"
   ]
  },
  {
   "cell_type": "code",
   "execution_count": null,
   "metadata": {},
   "outputs": [],
   "source": []
  }
 ],
 "metadata": {
  "kernelspec": {
   "display_name": "Python 3",
   "language": "python",
   "name": "python3"
  },
  "language_info": {
   "codemirror_mode": {
    "name": "ipython",
    "version": 3
   },
   "file_extension": ".py",
   "mimetype": "text/x-python",
   "name": "python",
   "nbconvert_exporter": "python",
   "pygments_lexer": "ipython3",
   "version": "3.7.3"
  }
 },
 "nbformat": 4,
 "nbformat_minor": 2
}
