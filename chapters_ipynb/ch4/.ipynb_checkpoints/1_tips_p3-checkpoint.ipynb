{
 "cells": [
  {
   "cell_type": "code",
   "execution_count": 1,
   "metadata": {},
   "outputs": [
    {
     "name": "stdout",
     "output_type": "stream",
     "text": [
      "rmse:\n",
      "0.9474705746817211 (LinearRegression)\n",
      "0.9469115898683901 (Ridge)\n",
      "0.9439950256305222 (Lasso)\n",
      "0.9307377813721576 (ElasticNet)\n",
      "1.7005504977258328 (SGDRegressor) \n",
      "\n",
      "rmse std:\n",
      "0.9007751177881491 (LinearRegression)\n",
      "0.901405534074565 (Ridge)\n",
      "1.333812899498391 (Lasso)\n",
      "1.1310151423347359 (ElasticNet)\n",
      "0.9021020134681715 (SGDRegressor)\n"
     ]
    }
   ],
   "source": [
    "import numpy as np\n",
    "from sklearn.linear_model import LinearRegression, Ridge,\\\n",
    "     Lasso, ElasticNet, SGDRegressor\n",
    "from sklearn.model_selection import train_test_split\n",
    "from sklearn.metrics import mean_squared_error\n",
    "from sklearn.preprocessing import StandardScaler\n",
    "\n",
    "def get_scores(model, Xtest, ytest):\n",
    "    y_pred = model.predict(Xtest)\n",
    "    return np.sqrt(mean_squared_error(ytest, y_pred)),\\\n",
    "           model.__class__.__name__\n",
    "\n",
    "if __name__ == \"__main__\":\n",
    "    br = '\\n'\n",
    "    X = np.load('data/X_tips.npy')\n",
    "    y = np.load('data/y_tips.npy')\n",
    "    X_train, X_test, y_train, y_test = train_test_split(\n",
    "        X, y, random_state=0)\n",
    "    print ('rmse:')\n",
    "    lr = LinearRegression().fit(X_train, y_train)\n",
    "    rmse, lr_name = get_scores(lr, X_test, y_test)\n",
    "    print (rmse, '(' + lr_name + ')')\n",
    "    rr = Ridge(random_state=0).fit(X_train, y_train)\n",
    "    rmse, rr_name = get_scores(rr, X_test, y_test)\n",
    "    print (rmse, '(' + rr_name + ')')\n",
    "    lasso = Lasso(random_state=0).fit(X_train, y_train)\n",
    "    rmse, lasso_name = get_scores(lasso, X_test, y_test)\n",
    "    print (rmse, '(' + lasso_name + ')')\n",
    "    en = ElasticNet(random_state=0).fit(X_train, y_train)\n",
    "    rmse, en_name = get_scores(en, X_test, y_test)\n",
    "    print (rmse, '(' + en_name + ')')\n",
    "    sgdr = SGDRegressor(random_state=0,\n",
    "                        max_iter=1000, tol=0.001)\n",
    "    sgdr.fit(X_train, y_train)\n",
    "    rmse, sgdr_name = get_scores(sgdr, X_test, y_test)\n",
    "    print (rmse, '(' + sgdr_name + ')', br)\n",
    "    scaler = StandardScaler()\n",
    "    X_train_std = scaler.fit_transform(X_train)\n",
    "    X_test_std = scaler.fit_transform(X_test)\n",
    "    print ('rmse std:')\n",
    "    lr_std = LinearRegression().fit(X_train_std, y_train)\n",
    "    rmse, lr_name = get_scores(lr_std, X_test_std, y_test)\n",
    "    print (rmse, '(' + lr_name + ')')\n",
    "    rr_std = Ridge(random_state=0).fit(X_train_std, y_train)\n",
    "    rmse, rr_name = get_scores(rr_std, X_test_std, y_test)\n",
    "    print (rmse, '(' + rr_name + ')')\n",
    "    lasso_std = Lasso(random_state=0).fit(X_train_std, y_train)\n",
    "    rmse, lasso_name = get_scores(lasso_std, X_test_std, y_test)\n",
    "    print (rmse, '(' + lasso_name + ')')\n",
    "    en_std = ElasticNet(random_state=0)\n",
    "    en_std.fit(X_train_std, y_train)\n",
    "    rmse, en_name = get_scores(en_std, X_test_std, y_test)\n",
    "    print (rmse, '(' + en_name + ')')\n",
    "    sgdr_std = SGDRegressor(random_state=0,\n",
    "                            max_iter=1000, tol=0.001)\n",
    "    sgdr_std.fit(X_train_std, y_train)\n",
    "    rmse, sgdr_name = get_scores(sgdr_std, X_test_std, y_test)\n",
    "    print (rmse, '(' + sgdr_name + ')')"
   ]
  },
  {
   "cell_type": "code",
   "execution_count": null,
   "metadata": {},
   "outputs": [],
   "source": []
  }
 ],
 "metadata": {
  "kernelspec": {
   "display_name": "Python 3",
   "language": "python",
   "name": "python3"
  },
  "language_info": {
   "codemirror_mode": {
    "name": "ipython",
    "version": 3
   },
   "file_extension": ".py",
   "mimetype": "text/x-python",
   "name": "python",
   "nbconvert_exporter": "python",
   "pygments_lexer": "ipython3",
   "version": "3.7.3"
  }
 },
 "nbformat": 4,
 "nbformat_minor": 2
}
