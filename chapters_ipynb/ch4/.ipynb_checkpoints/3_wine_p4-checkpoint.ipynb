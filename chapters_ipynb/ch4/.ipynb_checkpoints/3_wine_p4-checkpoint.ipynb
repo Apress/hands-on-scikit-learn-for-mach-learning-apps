{
 "cells": [
  {
   "cell_type": "code",
   "execution_count": 1,
   "metadata": {},
   "outputs": [
    {
     "name": "stdout",
     "output_type": "stream",
     "text": [
      "(4898, 11)\n",
      "(4898,) \n",
      "\n",
      "(0.24186185906056268, 'alcohol')\n",
      "(0.1251626059551235, 'volatile acidity')\n",
      "(0.11524332271725685, 'free sulfur dioxide')\n",
      "(0.07170261049200727, 'pH')\n",
      "(0.06940456299270928, 'total sulfur dioxide')\n",
      "(0.06899334812486085, 'residual sugar')\n",
      "(0.06259740092261244, 'chlorides')\n",
      "(0.06227404207074219, 'sulphates')\n",
      "(0.061557623671947746, 'density')\n",
      "(0.060982526101159625, 'citric acid')\n",
      "(0.060220097891017656, 'fixed acidity')\n",
      "\n",
      "   alcohol  sulphates  volatile acidity  total sulfur dioxide  quality\n",
      "0      8.8       0.45              0.27                 170.0      6.0\n",
      "1      9.5       0.49              0.30                 132.0      6.0\n",
      "2     10.1       0.44              0.28                  97.0      6.0\n",
      "3      9.9       0.40              0.23                 186.0      6.0\n",
      "4      9.9       0.40              0.23                 186.0      6.0\n"
     ]
    }
   ],
   "source": [
    "import numpy as np, pandas as pd\n",
    "from sklearn.ensemble import RandomForestRegressor\n",
    "\n",
    "if __name__ == \"__main__\":\n",
    "    br = '\\n'\n",
    "    f = 'data/whitewine.csv'\n",
    "    white_wine = pd.read_csv(f)\n",
    "    X = white_wine.drop(['quality'], axis=1)\n",
    "    y = white_wine['quality']\n",
    "    print (X.shape)\n",
    "    print (y.shape, br)\n",
    "    features = list(X)\n",
    "    rfr = RandomForestRegressor(random_state=0,\n",
    "                                n_estimators=100)\n",
    "    rfr.fit(X, y)\n",
    "    feature_importances = rfr.feature_importances_\n",
    "    importance = sorted(zip(feature_importances, features),\n",
    "                        reverse=True)\n",
    "    for row in importance:\n",
    "        print (row)\n",
    "    print ()\n",
    "    print (white_wine[['alcohol', 'sulphates',\n",
    "                       'volatile acidity',\n",
    "                       'total sulfur dioxide',\n",
    "                       'quality']]. head())\n",
    "    X_file = 'data/X_white'\n",
    "    y_file = 'data/y_white'\n",
    "    np.save(X_file, X)\n",
    "    np.save(y_file, y)"
   ]
  },
  {
   "cell_type": "code",
   "execution_count": null,
   "metadata": {},
   "outputs": [],
   "source": []
  }
 ],
 "metadata": {
  "kernelspec": {
   "display_name": "Python 3",
   "language": "python",
   "name": "python3"
  },
  "language_info": {
   "codemirror_mode": {
    "name": "ipython",
    "version": 3
   },
   "file_extension": ".py",
   "mimetype": "text/x-python",
   "name": "python",
   "nbconvert_exporter": "python",
   "pygments_lexer": "ipython3",
   "version": "3.7.3"
  }
 },
 "nbformat": 4,
 "nbformat_minor": 2
}
