{
 "cells": [
  {
   "cell_type": "code",
   "execution_count": 1,
   "metadata": {},
   "outputs": [
    {
     "name": "stdout",
     "output_type": "stream",
     "text": [
      "Requirement already satisfied: humanfriendly in c:\\users\\a00017297\\appdata\\local\\continuum\\anaconda3\\lib\\site-packages (4.18)\n",
      "Requirement already satisfied: pyreadline; sys_platform == \"win32\" in c:\\users\\a00017297\\appdata\\local\\continuum\\anaconda3\\lib\\site-packages (from humanfriendly) (2.1)\n",
      "SVC(C=1.0, cache_size=200, class_weight=None, coef0=0.0,\n",
      "    decision_function_shape='ovr', degree=3, gamma='scale', kernel='rbf',\n",
      "    max_iter=-1, probability=False, random_state=0, shrinking=True, tol=0.001,\n",
      "    verbose=False) \n",
      "\n",
      "SVC (train, test):\n",
      "0.9820952380952381 0.912\n",
      "time: 11 seconds and 71.45 milliseconds\n",
      "\n",
      "Fitting 3 folds for each of 3 candidates, totalling 9 fits\n"
     ]
    },
    {
     "name": "stderr",
     "output_type": "stream",
     "text": [
      "[Parallel(n_jobs=-1)]: Using backend LokyBackend with 8 concurrent workers.\n",
      "[Parallel(n_jobs=-1)]: Done   4 out of   9 | elapsed:    8.7s remaining:   10.9s\n",
      "[Parallel(n_jobs=-1)]: Done   9 out of   9 | elapsed:   11.7s remaining:    0.0s\n",
      "[Parallel(n_jobs=-1)]: Done   9 out of   9 | elapsed:   11.7s finished\n"
     ]
    },
    {
     "name": "stdout",
     "output_type": "stream",
     "text": [
      "RandomizedSearchCV total tuning time: 15 seconds and 657.09 milliseconds\n",
      "{'kernel': 'poly', 'gamma': 'scale', 'degree': 3, 'coef0': 0.1, 'C': 35} \n",
      "\n",
      "SVC (train, test):\n",
      "1.0 0.9462857142857143\n",
      "total time: 10 seconds and 28.76 milliseconds\n"
     ]
    }
   ],
   "source": [
    "# install humanfriendly if necessary\n",
    "!pip install humanfriendly\n",
    "\n",
    "import numpy as np, humanfriendly as hf, random\n",
    "import time\n",
    "from sklearn.model_selection import train_test_split\n",
    "from sklearn.model_selection import RandomizedSearchCV\n",
    "from sklearn.decomposition import PCA\n",
    "from sklearn.preprocessing import StandardScaler\n",
    "from sklearn.svm import SVC\n",
    "\n",
    "def get_scores(model, xtrain, ytrain, xtest, ytest):\n",
    "    ypred = model.predict(xtest)\n",
    "    train = model.score(xtrain, ytrain)\n",
    "    test = model.score(xtest, y_test)\n",
    "    name = model.__class__.__name__\n",
    "    return (name, train, test)\n",
    "\n",
    "def prep_data(data, target):\n",
    "    d = [data[i] for i, _ in enumerate(data)]\n",
    "    t = [target[i] for i, _ in enumerate(target)]\n",
    "    return list(zip(d, t))\n",
    "\n",
    "def create_sample(d, n, replace='yes'):\n",
    "    if replace == 'yes': s = random.sample(d, n)\n",
    "    else: s = [random.choice(d) for i, _ in enumerate(d)\n",
    "               if i < n]\n",
    "    Xs = [row[0] for i, row in enumerate(s)]\n",
    "    ys = [row[1] for i, row in enumerate(s)]\n",
    "    return np.array(Xs), np.array(ys)\n",
    "\n",
    "def see_time(note):\n",
    "    end = time.perf_counter()\n",
    "    elapsed = end - start\n",
    "    print (note,\n",
    "           hf.format_timespan(elapsed, detailed=True))\n",
    "\n",
    "if __name__ == \"__main__\":\n",
    "    br = '\\n'\n",
    "    X_file = 'data/X_mnist'\n",
    "    y_file = 'data/y_mnist'\n",
    "    X = np.load('data/X_mnist.npy')\n",
    "    y = np.load('data/y_mnist.npy')\n",
    "    X = X.astype(np.float32)\n",
    "    data = prep_data(X, y)\n",
    "    sample_size = 7000\n",
    "    Xs, ys = create_sample(data, sample_size)\n",
    "    pca = PCA(n_components=0.95, random_state=0)\n",
    "    Xs = StandardScaler().fit_transform(Xs)\n",
    "    Xs_reduced = pca.fit_transform(Xs)\n",
    "    X_train, X_test, y_train, y_test = train_test_split(\n",
    "        Xs_reduced, ys, random_state=0)\n",
    "    svm = SVC(gamma='scale', random_state=0)\n",
    "    print (svm, br)\n",
    "    start = time.perf_counter()\n",
    "    svm.fit(X_train, y_train)\n",
    "    svm_scores = get_scores(svm, X_train, y_train,\n",
    "                            X_test, y_test)\n",
    "    print (svm_scores[0] + ' (train, test):')\n",
    "    print (svm_scores[1], svm_scores[2])\n",
    "    see_time('time:')\n",
    "    print ()\n",
    "    param_grid = {'C': [30, 35, 40], 'kernel': ['poly'],\n",
    "                  'gamma': ['scale'], 'degree': [3],\n",
    "                  'coef0': [0.1]}\n",
    "    start = time.perf_counter()\n",
    "    rand = RandomizedSearchCV(svm, param_grid, cv=3, n_jobs = -1,\n",
    "                              random_state=0, n_iter=3,\n",
    "                              verbose=2)\n",
    "    rand.fit(X_train, y_train)\n",
    "    see_time('RandomizedSearchCV total tuning time:')\n",
    "    bp = rand.best_params_\n",
    "    print (bp, br)\n",
    "    svm = SVC(**bp, random_state=0)\n",
    "    start = time.perf_counter()\n",
    "    svm.fit(X_train, y_train)\n",
    "    svm_scores = get_scores(svm, X_train, y_train,\n",
    "                            X_test, y_test)\n",
    "    print (svm_scores[0] + ' (train, test):')\n",
    "    print (svm_scores[1], svm_scores[2])\n",
    "    see_time('total time:')"
   ]
  },
  {
   "cell_type": "code",
   "execution_count": null,
   "metadata": {},
   "outputs": [],
   "source": []
  }
 ],
 "metadata": {
  "kernelspec": {
   "display_name": "Python 3",
   "language": "python",
   "name": "python3"
  },
  "language_info": {
   "codemirror_mode": {
    "name": "ipython",
    "version": 3
   },
   "file_extension": ".py",
   "mimetype": "text/x-python",
   "name": "python",
   "nbconvert_exporter": "python",
   "pygments_lexer": "ipython3",
   "version": "3.7.3"
  }
 },
 "nbformat": 4,
 "nbformat_minor": 2
}
