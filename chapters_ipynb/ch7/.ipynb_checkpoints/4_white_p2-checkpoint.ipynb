{
 "cells": [
  {
   "cell_type": "code",
   "execution_count": 1,
   "metadata": {},
   "outputs": [
    {
     "name": "stdout",
     "output_type": "stream",
     "text": [
      "Requirement already satisfied: humanfriendly in c:\\users\\a00017297\\appdata\\local\\continuum\\anaconda3\\lib\\site-packages (4.18)\n",
      "Requirement already satisfied: pyreadline; sys_platform == \"win32\" in c:\\users\\a00017297\\appdata\\local\\continuum\\anaconda3\\lib\\site-packages (from humanfriendly) (2.1)\n",
      "RandomForestRegressor(bootstrap=True, criterion='mse', max_depth=None,\n",
      "                      max_features='auto', max_leaf_nodes=None,\n",
      "                      min_impurity_decrease=0.0, min_impurity_split=None,\n",
      "                      min_samples_leaf=1, min_samples_split=2,\n",
      "                      min_weight_fraction_leaf=0.0, n_estimators=10,\n",
      "                      n_jobs=None, oob_score=False, random_state=0, verbose=0,\n",
      "                      warm_start=False) \n",
      "\n",
      "RandomForestRegressor(rmse): 0.6966098665124181 \n",
      "\n",
      "Fitting 5 folds for each of 4 candidates, totalling 20 fits\n"
     ]
    },
    {
     "name": "stderr",
     "output_type": "stream",
     "text": [
      "[Parallel(n_jobs=-1)]: Using backend LokyBackend with 8 concurrent workers.\n",
      "[Parallel(n_jobs=-1)]: Done  20 out of  20 | elapsed:   20.5s finished\n"
     ]
    },
    {
     "name": "stdout",
     "output_type": "stream",
     "text": [
      "training time: 27 seconds and 349.97 milliseconds\n",
      "{'bootstrap': True, 'n_estimators': 500} \n",
      "\n",
      "RandomForestRegressor(rmse): 0.6728175517621279 \n",
      "\n",
      "cross-validation rmse: 1 minute, 24 seconds and 79.64 milliseconds\n",
      "0.7183073387927801\n"
     ]
    }
   ],
   "source": [
    "# install humanfriendly if necessary\n",
    "!pip install humanfriendly\n",
    "\n",
    "import numpy as np, humanfriendly as hf\n",
    "import time\n",
    "from sklearn.model_selection import train_test_split\n",
    "from sklearn.ensemble import RandomForestRegressor\n",
    "from sklearn.model_selection import GridSearchCV,\\\n",
    "     cross_val_score\n",
    "from sklearn.metrics import mean_squared_error\n",
    "\n",
    "def get_error(model, Xtest, ytest):\n",
    "    y_pred = model.predict(Xtest)\n",
    "    return np.sqrt(mean_squared_error(ytest, y_pred)),\\\n",
    "           model.__class__.__name__\n",
    "\n",
    "def see_time(note):\n",
    "    end = time.perf_counter()\n",
    "    elapsed = end - start\n",
    "    print (note,\n",
    "           hf.format_timespan(elapsed, detailed=True))\n",
    "\n",
    "def get_cross(model, data, target, groups=10):\n",
    "    return cross_val_score(model, data, target, cv=groups,\n",
    "                           scoring='neg_mean_squared_error')\n",
    "\n",
    "if __name__ == \"__main__\":\n",
    "    br = '\\n'\n",
    "    X = np.load('data/X_white.npy')\n",
    "    y = np.load('data/y_white.npy')\n",
    "    X_train, X_test, y_train, y_test = train_test_split(\n",
    "        X, y, random_state=0)\n",
    "    rfr = RandomForestRegressor(random_state=0, n_estimators=10)\n",
    "    print (rfr, br)\n",
    "    rfr.fit(X_train, y_train)\n",
    "    rmse, name = get_error(rfr, X_test, y_test)\n",
    "    print (name + '(rmse):', end=' ')\n",
    "    print (rmse, br)\n",
    "    n_est = [100, 500]\n",
    "    boot = [True, False]\n",
    "    params = {'n_estimators': n_est, 'bootstrap': boot}\n",
    "    grid = GridSearchCV(rfr, params, cv=5, n_jobs=-1,\n",
    "                        verbose=1)\n",
    "    start = time.perf_counter()\n",
    "    grid.fit(X_train, y_train)\n",
    "    see_time('training time:')\n",
    "    bp = grid.best_params_\n",
    "    print (bp, br)\n",
    "    rfr = RandomForestRegressor(**bp, random_state=0)\n",
    "    rfr.fit(X_train, y_train)\n",
    "    rmse, name = get_error(rfr, X_test, y_test)\n",
    "    print (name + '(rmse):', end=' ')\n",
    "    print (rmse, br)\n",
    "    start = time.perf_counter()\n",
    "    scores = get_cross(rfr, X, y)\n",
    "    see_time('cross-validation rmse:')\n",
    "    rmse = np.sqrt(np.mean(scores) * -1)\n",
    "    print (rmse)"
   ]
  },
  {
   "cell_type": "code",
   "execution_count": null,
   "metadata": {},
   "outputs": [],
   "source": []
  }
 ],
 "metadata": {
  "kernelspec": {
   "display_name": "Python 3",
   "language": "python",
   "name": "python3"
  },
  "language_info": {
   "codemirror_mode": {
    "name": "ipython",
    "version": 3
   },
   "file_extension": ".py",
   "mimetype": "text/x-python",
   "name": "python",
   "nbconvert_exporter": "python",
   "pygments_lexer": "ipython3",
   "version": "3.7.3"
  }
 },
 "nbformat": 4,
 "nbformat_minor": 2
}
