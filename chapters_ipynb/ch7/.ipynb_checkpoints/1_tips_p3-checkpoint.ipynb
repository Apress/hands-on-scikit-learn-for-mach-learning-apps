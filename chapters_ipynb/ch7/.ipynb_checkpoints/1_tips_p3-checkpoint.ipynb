{
 "cells": [
  {
   "cell_type": "code",
   "execution_count": 2,
   "metadata": {},
   "outputs": [
    {
     "name": "stdout",
     "output_type": "stream",
     "text": [
      "Requirement already satisfied: humanfriendly in c:\\users\\a00017297\\appdata\\local\\continuum\\anaconda3\\lib\\site-packages (4.18)\n",
      "Requirement already satisfied: pyreadline; sys_platform == \"win32\" in c:\\users\\a00017297\\appdata\\local\\continuum\\anaconda3\\lib\\site-packages (from humanfriendly) (2.1)\n",
      "ARDRegression(alpha_1=1e-06, alpha_2=1e-06, compute_score=False, copy_X=True,\n",
      "              fit_intercept=True, lambda_1=1e-06, lambda_2=1e-06, n_iter=300,\n",
      "              normalize=False, threshold_lambda=10000.0, tol=0.001,\n",
      "              verbose=False) \n",
      "\n",
      "ARDRegression(rmse): 0.8745960871431719 \n",
      "\n",
      "Fitting 5 folds for each of 4 candidates, totalling 20 fits\n"
     ]
    },
    {
     "name": "stderr",
     "output_type": "stream",
     "text": [
      "[Parallel(n_jobs=-1)]: Using backend LokyBackend with 8 concurrent workers.\n",
      "[Parallel(n_jobs=-1)]: Done   5 out of  20 | elapsed:    0.0s remaining:    0.1s\n",
      "[Parallel(n_jobs=-1)]: Done  20 out of  20 | elapsed:    0.2s finished\n"
     ]
    },
    {
     "name": "stdout",
     "output_type": "stream",
     "text": [
      "training time: 426.37 milliseconds\n",
      "{'alpha_1': 10000.0, 'alpha_2': 100000.0, 'n_iter': 50} \n",
      "\n",
      "ARDRegression(rmse): 0.8645625277607776 \n",
      "\n",
      "cross-validation rmse: 1 second and 533.14 milliseconds\n",
      "1.037652715369791\n"
     ]
    }
   ],
   "source": [
    "# install humanfriendly if necessary\n",
    "!pip install humanfriendly\n",
    "\n",
    "import numpy as np, humanfriendly as hf\n",
    "import time\n",
    "from sklearn.preprocessing import StandardScaler\n",
    "from sklearn.model_selection import train_test_split\n",
    "from sklearn.linear_model import ARDRegression\n",
    "from sklearn.model_selection import GridSearchCV,\\\n",
    "     cross_val_score\n",
    "from sklearn.metrics import mean_squared_error\n",
    "\n",
    "def get_error(model, Xtest, ytest):\n",
    "    y_pred = model.predict(Xtest)\n",
    "    return np.sqrt(mean_squared_error(ytest, y_pred)),\\\n",
    "           model.__class__.__name__\n",
    "\n",
    "def see_time(note):\n",
    "    end = time.perf_counter()\n",
    "    elapsed = end - start\n",
    "    print (note,\n",
    "           hf.format_timespan(elapsed, detailed=True))\n",
    "\n",
    "def get_cross(model, data, target, groups=10):\n",
    "    return cross_val_score(model, data, target, cv=groups,\n",
    "                           scoring='neg_mean_squared_error')\n",
    "\n",
    "if __name__ == \"__main__\":\n",
    "    br = '\\n'\n",
    "    X = np.load('data/X_tips.npy')\n",
    "    y = np.load('data/y_tips.npy')\n",
    "    X_train, X_test, y_train, y_test = train_test_split(\n",
    "        X, y, random_state=0)\n",
    "    scaler = StandardScaler()\n",
    "    X_train_std = scaler.fit_transform(X_train)\n",
    "    X_test_std = scaler.fit_transform(X_test)\n",
    "    ard = ARDRegression().fit(X_train_std, y_train)\n",
    "    print (ard, br)\n",
    "    rmse, name = get_error(ard, X_test_std, y_test)\n",
    "    print (name + '(rmse):', end=' ')\n",
    "    print (rmse, br)\n",
    "    iters = [50]\n",
    "    a1 = [1e5, 1e4]\n",
    "    a2 = [1e5, 1e4]\n",
    "    params = {'n_iter': iters, 'alpha_1': a1, 'alpha_2': a2}\n",
    "    grid = GridSearchCV(ard, params, cv=5, n_jobs=-1, verbose=1)\n",
    "    start = time.perf_counter()\n",
    "    grid.fit(X_train, y_train)\n",
    "    see_time('training time:')\n",
    "    bp = grid.best_params_\n",
    "    print (bp, br)\n",
    "    ard = ARDRegression(**bp).fit(X_train_std, y_train)\n",
    "    rmse, name = get_error(ard, X_test_std, y_test)\n",
    "    print (name + '(rmse):', end=' ')\n",
    "    print (rmse, br)\n",
    "    start = time.perf_counter()\n",
    "    scores = get_cross(ard, X, y)\n",
    "    see_time('cross-validation rmse:')\n",
    "    rmse = np.sqrt(np.mean(scores) * -1)\n",
    "    print (rmse)"
   ]
  },
  {
   "cell_type": "code",
   "execution_count": null,
   "metadata": {},
   "outputs": [],
   "source": []
  }
 ],
 "metadata": {
  "kernelspec": {
   "display_name": "Python 3",
   "language": "python",
   "name": "python3"
  },
  "language_info": {
   "codemirror_mode": {
    "name": "ipython",
    "version": 3
   },
   "file_extension": ".py",
   "mimetype": "text/x-python",
   "name": "python",
   "nbconvert_exporter": "python",
   "pygments_lexer": "ipython3",
   "version": "3.7.3"
  }
 },
 "nbformat": 4,
 "nbformat_minor": 2
}
