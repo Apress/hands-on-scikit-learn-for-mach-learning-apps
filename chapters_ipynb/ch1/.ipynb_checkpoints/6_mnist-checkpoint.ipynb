{
 "cells": [
  {
   "cell_type": "code",
   "execution_count": 2,
   "metadata": {},
   "outputs": [
    {
     "name": "stdout",
     "output_type": "stream",
     "text": [
      "labels (targets):\n",
      "[0. 1. 2. 3. 4. 5. 6. 7. 8. 9.] \n",
      "\n",
      "feature set shape:\n",
      "(70000, 784) \n",
      "\n",
      "target set shape:\n",
      "(70000,) \n",
      "\n",
      "the feature image consists of 784 pixels\n"
     ]
    },
    {
     "data": {
      "image/png": "[encoded data removed]",
      "text/plain": [
       "<Figure size 216x216 with 1 Axes>"
      ]
     },
     "metadata": {
      "needs_background": "light"
     },
     "output_type": "display_data"
    },
    {
     "data": {
      "image/png": "[encoded data removed]",
      "text/plain": [
       "<Figure size 216x216 with 1 Axes>"
      ]
     },
     "metadata": {
      "needs_background": "light"
     },
     "output_type": "display_data"
    }
   ],
   "source": [
    "import numpy as np\n",
    "from random import randint\n",
    "import matplotlib.pyplot as plt\n",
    "\n",
    "def find_image(data, labels, d):\n",
    "    for i, row in enumerate(labels):\n",
    "        if d == row:\n",
    "            target = row\n",
    "            X_pixels = np.array(data[i])\n",
    "            return (target, X_pixels)\n",
    "\n",
    "if __name__ == \"__main__\":\n",
    "    br = '\\n'\n",
    "    X = np.load('data/X_mnist.npy')\n",
    "    y = np.load('data/y_mnist.npy')\n",
    "    target = np.load('data/mnist_targets.npy')\n",
    "    print ('labels (targets):')\n",
    "    print (target, br)\n",
    "    print ('feature set shape:')\n",
    "    print (X.shape, br)\n",
    "    print ('target set shape:')\n",
    "    print (y.shape, br)\n",
    "    indx = randint(0, y.shape[0]-1)\n",
    "    target = y[indx]\n",
    "    X_pixels = np.array(X[indx])\n",
    "    print ('the feature image consists of', len(X_pixels),\n",
    "           'pixels')\n",
    "    X_image = X_pixels.reshape(28, 28)\n",
    "    plt.figure(1, figsize=(3, 3))\n",
    "    title = 'image @ indx ' + str(indx) + ' is digit ' \\\n",
    "            + str(int(target))\n",
    "    plt.title(title)\n",
    "    plt.imshow(X_image, cmap='gray')\n",
    "    digit = 7\n",
    "    target, X_pixels = find_image(X, y, digit)\n",
    "    X_image = X_pixels.reshape(28, 28)\n",
    "    plt.figure(2, figsize=(3, 3))\n",
    "    title = 'find first ' + str(int(target)) + ' in dataset'\n",
    "    plt.title(title)\n",
    "    plt.imshow(X_image, cmap='gray')\n",
    "    plt.show()"
   ]
  },
  {
   "cell_type": "code",
   "execution_count": null,
   "metadata": {},
   "outputs": [],
   "source": []
  }
 ],
 "metadata": {
  "kernelspec": {
   "display_name": "Python 3",
   "language": "python",
   "name": "python3"
  },
  "language_info": {
   "codemirror_mode": {
    "name": "ipython",
    "version": 3
   },
   "file_extension": ".py",
   "mimetype": "text/x-python",
   "name": "python",
   "nbconvert_exporter": "python",
   "pygments_lexer": "ipython3",
   "version": "3.7.3"
  }
 },
 "nbformat": 4,
 "nbformat_minor": 2
}
