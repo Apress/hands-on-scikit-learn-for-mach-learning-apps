{
 "cells": [
  {
   "cell_type": "code",
   "execution_count": 1,
   "metadata": {},
   "outputs": [
    {
     "name": "stdout",
     "output_type": "stream",
     "text": [
      "['age', 'job', 'marital', 'education', 'default', 'housing', 'loan', 'contact', 'month', 'day_of_week', 'duration', 'campaign', 'pdays', 'previous', 'poutcome', 'emp.var.rate', 'cons.price.idx', 'cons.conf.idx', 'euribor3m', 'nr.employed', 'y'] \n",
      "\n",
      "(41188, 20) (41188,) \n",
      "\n",
      "         job    education  age housing  marital  duration\n",
      "0  housemaid     basic.4y   56      no  married       261\n",
      "1   services  high.school   57      no  married       149\n",
      "2   services  high.school   37     yes  married       226\n",
      "3     admin.     basic.6y   40      no  married       151\n",
      "4   services  high.school   56      no  married       307\n"
     ]
    }
   ],
   "source": [
    "import pandas as pd\n",
    "\n",
    "if __name__ == \"__main__\":\n",
    "    br = '\\n'\n",
    "    f = 'data/bank.csv'\n",
    "    bank = pd.read_csv(f)\n",
    "    features = list(bank)\n",
    "    print (features, br)\n",
    "    X = bank.drop(['y'], axis=1).values\n",
    "    y = bank['y'].values\n",
    "    print (X.shape, y.shape, br)\n",
    "    print (bank[['job', 'education', 'age', 'housing',\n",
    "                 'marital', 'duration']].head())"
   ]
  },
  {
   "cell_type": "code",
   "execution_count": null,
   "metadata": {},
   "outputs": [],
   "source": []
  }
 ],
 "metadata": {
  "kernelspec": {
   "display_name": "Python 3",
   "language": "python",
   "name": "python3"
  },
  "language_info": {
   "codemirror_mode": {
    "name": "ipython",
    "version": 3
   },
   "file_extension": ".py",
   "mimetype": "text/x-python",
   "name": "python",
   "nbconvert_exporter": "python",
   "pygments_lexer": "ipython3",
   "version": "3.7.3"
  }
 },
 "nbformat": 4,
 "nbformat_minor": 2
}
