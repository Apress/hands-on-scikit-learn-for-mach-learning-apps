{
 "cells": [
  {
   "cell_type": "code",
   "execution_count": 1,
   "metadata": {},
   "outputs": [
    {
     "name": "stdout",
     "output_type": "stream",
     "text": [
      "(4898, 11)\n",
      "(4898,) \n",
      "\n",
      "3 most important features (RandomForestRegressor):\n",
      "(0.24186185906056268, 'alcohol')\n",
      "(0.1251626059551235, 'volatile acidity')\n",
      "(0.11524332271725685, 'free sulfur dioxide')\n",
      "\n",
      "   alcohol  sulphates  volatile acidity  total sulfur dioxide  quality\n",
      "0      8.8       0.45              0.27                 170.0      6.0\n",
      "1      9.5       0.49              0.30                 132.0      6.0\n",
      "2     10.1       0.44              0.28                  97.0      6.0\n",
      "3      9.9       0.40              0.23                 186.0      6.0\n",
      "4      9.9       0.40              0.23                 186.0      6.0\n"
     ]
    }
   ],
   "source": [
    "import numpy as np, pandas as pd\n",
    "from sklearn.ensemble import RandomForestRegressor\n",
    "\n",
    "if __name__ == \"__main__\":\n",
    "    br = '\\n'\n",
    "    f = 'data/whitewine.csv'\n",
    "    white_wine = pd.read_csv(f)\n",
    "    X = white_wine.drop(['quality'], axis=1)\n",
    "    y = white_wine['quality']\n",
    "    print (X.shape)\n",
    "    print (y.shape, br)\n",
    "    features = list(X)\n",
    "    rfr = RandomForestRegressor(random_state=0,\n",
    "                                n_estimators=100)\n",
    "    rfr_name = rfr.__class__.__name__\n",
    "    rfr.fit(X, y)\n",
    "    feature_importances = rfr.feature_importances_\n",
    "    importance = sorted(zip(feature_importances, features),\n",
    "                        reverse=True)\n",
    "    n = 3\n",
    "    print (n, 'most important features' + ' (' + rfr_name + '):')\n",
    "    [print (row) for i, row in enumerate(importance) if i < n]\n",
    "    print ()\n",
    "    print (white_wine[['alcohol', 'sulphates',\n",
    "                       'volatile acidity',\n",
    "                       'total sulfur dioxide',\n",
    "                       'quality']]. head())"
   ]
  },
  {
   "cell_type": "code",
   "execution_count": null,
   "metadata": {},
   "outputs": [],
   "source": []
  }
 ],
 "metadata": {
  "kernelspec": {
   "display_name": "Python 3",
   "language": "python",
   "name": "python3"
  },
  "language_info": {
   "codemirror_mode": {
    "name": "ipython",
    "version": 3
   },
   "file_extension": ".py",
   "mimetype": "text/x-python",
   "name": "python",
   "nbconvert_exporter": "python",
   "pygments_lexer": "ipython3",
   "version": "3.7.3"
  }
 },
 "nbformat": 4,
 "nbformat_minor": 2
}
