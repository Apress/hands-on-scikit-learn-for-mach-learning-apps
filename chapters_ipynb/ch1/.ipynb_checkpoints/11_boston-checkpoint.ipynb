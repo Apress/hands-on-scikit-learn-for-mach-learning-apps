{
 "cells": [
  {
   "cell_type": "code",
   "execution_count": 1,
   "metadata": {},
   "outputs": [
    {
     "name": "stdout",
     "output_type": "stream",
     "text": [
      "dict_keys(['data', 'target', 'feature_names', 'DESCR', 'filename']) \n",
      "\n",
      "['CRIM' 'ZN' 'INDUS' 'CHAS' 'NOX' 'RM' 'AGE' 'DIS' 'RAD' 'TAX' 'PTRATIO'\n",
      " 'B' 'LSTAT'] \n",
      "\n",
      "feature shape (506, 13)\n",
      "target shape (506,) \n",
      "\n",
      "(0.45730362625767507, 'RM')\n",
      "(0.3500866188568138, 'LSTAT')\n",
      "(0.06518862820215895, 'DIS')\n"
     ]
    }
   ],
   "source": [
    "from sklearn.datasets import load_boston\n",
    "from sklearn.ensemble import RandomForestRegressor\n",
    "\n",
    "if __name__ == \"__main__\":\n",
    "    br = '\\n'\n",
    "    boston = load_boston()\n",
    "    print (boston.keys(), br)\n",
    "    print (boston.feature_names, br)\n",
    "    X = boston.data\n",
    "    y = boston.target\n",
    "    print ('feature shape', X.shape)\n",
    "    print ('target shape', y.shape, br)\n",
    "    keys = boston.keys()\n",
    "    rfr = RandomForestRegressor(random_state=0,\n",
    "                                n_estimators=100)\n",
    "    rfr.fit(X, y)\n",
    "    features = boston.feature_names\n",
    "    feature_importances = rfr.feature_importances_\n",
    "    importance = sorted(zip(feature_importances, features),\n",
    "                        reverse=True)\n",
    "    [print(row) for i, row in enumerate(importance) if i < 3]"
   ]
  },
  {
   "cell_type": "code",
   "execution_count": null,
   "metadata": {},
   "outputs": [],
   "source": []
  }
 ],
 "metadata": {
  "kernelspec": {
   "display_name": "Python 3",
   "language": "python",
   "name": "python3"
  },
  "language_info": {
   "codemirror_mode": {
    "name": "ipython",
    "version": 3
   },
   "file_extension": ".py",
   "mimetype": "text/x-python",
   "name": "python",
   "nbconvert_exporter": "python",
   "pygments_lexer": "ipython3",
   "version": "3.7.3"
  }
 },
 "nbformat": 4,
 "nbformat_minor": 2
}
