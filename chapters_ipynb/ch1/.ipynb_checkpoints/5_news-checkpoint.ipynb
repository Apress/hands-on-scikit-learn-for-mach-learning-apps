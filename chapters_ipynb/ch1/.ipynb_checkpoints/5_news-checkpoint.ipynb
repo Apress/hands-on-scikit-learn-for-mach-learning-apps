{
 "cells": [
  {
   "cell_type": "code",
   "execution_count": 1,
   "metadata": {},
   "outputs": [
    {
     "name": "stdout",
     "output_type": "stream",
     "text": [
      "data:\n",
      "(11314,) shape of train data\n",
      "(7532,) shape of test data \n",
      "\n",
      "['alt.atheism', 'comp.graphics', 'comp.os.ms-windows.misc', 'comp.sys.ibm.pc.hardware', 'comp.sys.mac.hardware', 'comp.windows.x', 'misc.forsale', 'rec.autos', 'rec.motorcycles', 'rec.sport.baseball', 'rec.sport.hockey', 'sci.crypt', 'sci.electronics', 'sci.med', 'sci.space', 'soc.religion.christian', 'talk.politics.guns', 'talk.politics.mideast', 'talk.politics.misc', 'talk.religion.misc'] \n",
      "\n",
      "data subset:\n",
      "(2379,) shape of train data\n",
      "(1584,) shape of test data \n",
      "\n",
      "['rec.autos', 'rec.motorcycles', 'sci.med', 'sci.space']\n"
     ]
    }
   ],
   "source": [
    "from sklearn.datasets import fetch_20newsgroups\n",
    "\n",
    "if __name__ == \"__main__\":\n",
    "    br = '\\n'\n",
    "    train = fetch_20newsgroups(subset='train')\n",
    "    test = fetch_20newsgroups(subset='test')\n",
    "    print ('data:')\n",
    "    print (train.target.shape, 'shape of train data')\n",
    "    print (test.target.shape, 'shape of test data', br)\n",
    "    targets = test.target_names\n",
    "    print (targets, br)\n",
    "    categories = ['rec.autos', 'rec.motorcycles', 'sci.space',\n",
    "                  'sci.med']\n",
    "    train = fetch_20newsgroups(subset='train',\n",
    "                               categories=categories)\n",
    "    test = fetch_20newsgroups(subset='test',\n",
    "                              categories=categories)\n",
    "    print ('data subset:')    \n",
    "    print (train.target.shape, 'shape of train data')\n",
    "    print (test.target.shape, 'shape of test data', br)\n",
    "    targets = train.target_names\n",
    "    print (targets)"
   ]
  },
  {
   "cell_type": "code",
   "execution_count": null,
   "metadata": {},
   "outputs": [],
   "source": []
  }
 ],
 "metadata": {
  "kernelspec": {
   "display_name": "Python 3",
   "language": "python",
   "name": "python3"
  },
  "language_info": {
   "codemirror_mode": {
    "name": "ipython",
    "version": 3
   },
   "file_extension": ".py",
   "mimetype": "text/x-python",
   "name": "python",
   "nbconvert_exporter": "python",
   "pygments_lexer": "ipython3",
   "version": "3.7.3"
  }
 },
 "nbformat": 4,
 "nbformat_minor": 2
}
