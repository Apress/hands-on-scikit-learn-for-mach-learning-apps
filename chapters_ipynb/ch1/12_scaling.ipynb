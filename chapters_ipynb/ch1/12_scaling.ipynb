{
 "cells": [
  {
   "cell_type": "code",
   "execution_count": 1,
   "metadata": {},
   "outputs": [
    {
     "name": "stdout",
     "output_type": "stream",
     "text": [
      "<<SGDClassifier>> \n",
      "\n",
      "unscaled 'test' accuracy: 0.9466666666666667\n",
      "scaled 'test' accuracy: 0.9533\n"
     ]
    }
   ],
   "source": [
    "import numpy as np\n",
    "from sklearn.datasets import load_digits\n",
    "from sklearn.model_selection import train_test_split\n",
    "from sklearn.linear_model import SGDClassifier\n",
    "from sklearn.preprocessing import StandardScaler\n",
    "from sklearn.metrics import accuracy_score\n",
    "\n",
    "if __name__ == \"__main__\":\n",
    "    br = '\\n'\n",
    "    digits = load_digits()\n",
    "    X = digits.data\n",
    "    y = digits.target\n",
    "    X_train, X_test, y_train, y_test =\\\n",
    "             train_test_split(X, y, random_state=0)\n",
    "    sgd = SGDClassifier(random_state=0, max_iter=1000,\n",
    "                        tol=0.001)\n",
    "    sgd.fit(X_train, y_train)\n",
    "    sgd_name = sgd.__class__.__name__\n",
    "    print ('<<' + sgd_name + '>>', br)\n",
    "    y_pred = sgd.predict(X_test)\n",
    "    accuracy = accuracy_score(y_test, y_pred)\n",
    "    print ('unscaled \\'test\\' accuracy:', accuracy)\n",
    "    scaler = StandardScaler().fit(X_train)\n",
    "    X_train_std, X_test_std = scaler.transform(X_train),\\\n",
    "                              scaler.transform(X_test)\n",
    "    sgd_std = SGDClassifier(random_state=0, max_iter=1000,\n",
    "                            tol=0.001)\n",
    "    sgd_std.fit(X_train_std, y_train)\n",
    "    y_pred = sgd_std.predict(X_test_std)\n",
    "    accuracy = accuracy_score(y_test, y_pred)\n",
    "    print ('scaled \\'test\\' accuracy:', np.round(accuracy, 4))"
   ]
  },
  {
   "cell_type": "code",
   "execution_count": null,
   "metadata": {},
   "outputs": [],
   "source": []
  }
 ],
 "metadata": {
  "kernelspec": {
   "display_name": "Python 3",
   "language": "python",
   "name": "python3"
  },
  "language_info": {
   "codemirror_mode": {
    "name": "ipython",
    "version": 3
   },
   "file_extension": ".py",
   "mimetype": "text/x-python",
   "name": "python",
   "nbconvert_exporter": "python",
   "pygments_lexer": "ipython3",
   "version": "3.7.3"
  }
 },
 "nbformat": 4,
 "nbformat_minor": 2
}
