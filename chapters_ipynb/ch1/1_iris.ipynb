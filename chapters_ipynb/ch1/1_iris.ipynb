{
 "cells": [
  {
   "cell_type": "code",
   "execution_count": 1,
   "metadata": {},
   "outputs": [
    {
     "name": "stdout",
     "output_type": "stream",
     "text": [
      "dict_keys(['data', 'target', 'target_names', 'DESCR', 'feature_names', 'filename']) \n",
      "\n",
      "features shape: (150, 4)\n",
      "target shape: (150,) \n",
      "\n",
      "feature set:\n",
      "['sepal length (cm)', 'sepal width (cm)', 'petal length (cm)', 'petal width (cm)'] \n",
      "\n",
      "targets:\n",
      "['setosa' 'versicolor' 'virginica'] \n",
      "\n",
      "\n",
      "    ============== ==== ==== ======= ===== ====================\n",
      "                    Min  Max   Mean    SD   Class Correlation\n",
      "    ============== ==== ==== ======= ===== ====================\n",
      "    sepal length:   4.3  7.9   5.84   0.83    0.7826\n",
      "    sepal width:    2.0  4.4   3.05   0.43   -0.4194\n",
      "    petal length:   1.0  6.9   3.76   1.76    0.9490  (high!)\n",
      "    petal width: \n",
      "\n",
      "most important features (RandomForestClassifier):\n",
      "(0.46044473961715215, 'petal length (cm)')\n",
      "(0.42411626512710127, 'petal width (cm)')\n",
      "(0.09090795402103087, 'sepal length (cm)')\n",
      "(0.024531041234715757, 'sepal width (cm)')\n"
     ]
    }
   ],
   "source": [
    "from sklearn import datasets\n",
    "from sklearn.ensemble import RandomForestClassifier\n",
    "\n",
    "if __name__ == \"__main__\":\n",
    "    br = '\\n'\n",
    "    iris = datasets.load_iris()\n",
    "    keys = iris.keys()\n",
    "    print (keys, br)\n",
    "    X = iris.data\n",
    "    y = iris.target\n",
    "    print ('features shape:', X.shape)\n",
    "    print ('target shape:', y.shape, br)\n",
    "    features = iris.feature_names\n",
    "    targets = iris.target_names\n",
    "    print ('feature set:')\n",
    "    print (features, br)\n",
    "    print ('targets:')\n",
    "    print (targets, br)\n",
    "    print (iris.DESCR[525:900], br)\n",
    "    rnd_clf = RandomForestClassifier(random_state=0,\n",
    "                                     n_estimators=100)\n",
    "    rnd_clf.fit(X, y)\n",
    "    rnd_name = rnd_clf.__class__.__name__\n",
    "    feature_importances = rnd_clf.feature_importances_\n",
    "    importance = sorted(zip(feature_importances, features),\n",
    "                        reverse=True)\n",
    "    print ('most important features' + ' (' + rnd_name + '):')\n",
    "    [print (row) for i, row in enumerate(importance)]"
   ]
  }
 ],
 "metadata": {
  "kernelspec": {
   "display_name": "Python 3",
   "language": "python",
   "name": "python3"
  },
  "language_info": {
   "codemirror_mode": {
    "name": "ipython",
    "version": 3
   },
   "file_extension": ".py",
   "mimetype": "text/x-python",
   "name": "python",
   "nbconvert_exporter": "python",
   "pygments_lexer": "ipython3",
   "version": "3.7.3"
  }
 },
 "nbformat": 4,
 "nbformat_minor": 2
}
